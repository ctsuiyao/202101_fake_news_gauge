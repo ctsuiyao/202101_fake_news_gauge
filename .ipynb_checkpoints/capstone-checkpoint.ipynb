{
 "cells": [
  {
   "cell_type": "code",
   "execution_count": 338,
   "metadata": {},
   "outputs": [],
   "source": [
    "import pandas as pd\n",
    "import numpy as np\n",
    "import re\n",
    "import json\n",
    "from collections import Counter\n",
    "from heapq import nlargest\n",
    "import liwc\n",
    "import plotly.express as px\n",
    "\n",
    "from sklearn.feature_extraction.text import CountVectorizer\n",
    "\n",
    "import spacy\n",
    "nlp = spacy.load(\"en_core_web_sm\")"
   ]
  },
  {
   "cell_type": "code",
   "execution_count": 339,
   "metadata": {},
   "outputs": [],
   "source": [
    "import spacy\n",
    "nlp = spacy.load(\"en_core_web_sm\")"
   ]
  },
  {
   "cell_type": "code",
   "execution_count": 27,
   "metadata": {},
   "outputs": [],
   "source": [
    "news2 = pd.read_csv('data/kaggle_train.csv')\n",
    "news2 = news2[~news2['text'].isnull()]\n",
    "news2 = news2[[ 'title', 'author', 'text', 'label']]\n",
    "\n",
    "news2['pos'] = news2['text'].apply(lambda x: collections.Counter([ w.pos_ for w in nlp(x)]))\n",
    "\n",
    "\n",
    "def tokenize(text):\n",
    "    # you may want to use a smarter tokenizer\n",
    "    for match in re.finditer(r'\\w+', text, re.UNICODE):\n",
    "        yield match.group(0)\n",
    "def parseLIWC(x):\n",
    "    gettysburg_tokens = tokenize(x)\n",
    "    gettysburg_counts = Counter(category for token in gettysburg_tokens for category in parse(token))\n",
    "    return gettysburg_counts\n",
    "\n",
    "\n",
    "parse, category_names = liwc.load_token_parser('data/queryDictionary.dic')\n",
    "\n",
    "news2['liwc_ct'] = news2['text'].apply(parseLIWC)\n",
    "\n",
    "\n",
    "json_struct = json.loads(news2.to_json(orient=\"records\"))    \n",
    "df_flat = pd.io.json.json_normalize(json_struct) #use pd.io.json\n",
    "\n",
    "df_flat= df_flat.fillna(0)\n",
    "df_flat['word_count'] = df_flat.loc[:, df_flat.columns.str.startswith('pos.')].sum(axis=1)"
   ]
  },
  {
   "cell_type": "code",
   "execution_count": 485,
   "metadata": {},
   "outputs": [],
   "source": [
    "df_flat3.to_csv('data/flaten_file2.csv')"
   ]
  },
  {
   "cell_type": "code",
   "execution_count": 435,
   "metadata": {},
   "outputs": [
    {
     "ename": "AttributeError",
     "evalue": "'list' object has no attribute 'sum'",
     "output_type": "error",
     "traceback": [
      "\u001b[0;31m---------------------------------------------------------------------------\u001b[0m",
      "\u001b[0;31mAttributeError\u001b[0m                            Traceback (most recent call last)",
      "\u001b[0;32m<ipython-input-435-6eb573d1b286>\u001b[0m in \u001b[0;36m<module>\u001b[0;34m\u001b[0m\n\u001b[1;32m      3\u001b[0m \u001b[0mliwc_ip\u001b[0m \u001b[0;34m=\u001b[0m \u001b[0;34m[\u001b[0m\u001b[0;34m]\u001b[0m\u001b[0;34m\u001b[0m\u001b[0;34m\u001b[0m\u001b[0m\n\u001b[1;32m      4\u001b[0m \u001b[0mliwc_ct\u001b[0m \u001b[0;34m=\u001b[0m \u001b[0;34m[\u001b[0m\u001b[0mx_parsed\u001b[0m\u001b[0;34m[\u001b[0m\u001b[0mname\u001b[0m\u001b[0;34m.\u001b[0m\u001b[0mreplace\u001b[0m\u001b[0;34m(\u001b[0m\u001b[0;34m\"liwc_ct.\"\u001b[0m\u001b[0;34m,\u001b[0m\u001b[0;34m\"\"\u001b[0m\u001b[0;34m)\u001b[0m\u001b[0;34m]\u001b[0m \u001b[0;32mfor\u001b[0m \u001b[0mname\u001b[0m \u001b[0;32min\u001b[0m \u001b[0mX_train\u001b[0m\u001b[0;34m.\u001b[0m\u001b[0mcolumns\u001b[0m\u001b[0;34m]\u001b[0m\u001b[0;34m\u001b[0m\u001b[0;34m\u001b[0m\u001b[0m\n\u001b[0;32m----> 5\u001b[0;31m \u001b[0mliwc_ct\u001b[0m\u001b[0;34m.\u001b[0m\u001b[0msum\u001b[0m\u001b[0;34m(\u001b[0m\u001b[0;34m)\u001b[0m\u001b[0;34m\u001b[0m\u001b[0;34m\u001b[0m\u001b[0m\n\u001b[0m",
      "\u001b[0;31mAttributeError\u001b[0m: 'list' object has no attribute 'sum'"
     ]
    }
   ],
   "source": [
    "x = \"adobochron 1 Comment SAN FRANCISCO, California ( The Adobo Chronicles, San Francisco Bureau) – Now it can be told — now that Hillary Clinton is all but assured of the Democratic presidential nomination. For months since the former secretary of state launched her presidential bid, her campaign logo has always symbolized America’s quest to move forward, with the arrow in the logo pointing to the right. Left-handed people, of course, dispute that symbolism because for them, moving forward should be pointing to the left. But there is another school of thought about Hillary’s logo. Many believe that the arrow pointing right actually symbolizes moving to the (conservative) right as opposed to the (liberal) left. The logo was a brilliant concept designed to help the Democrats win over Republican voters in the general elections — voters who will definitely choose a rightist over a leftist candidate. The GOP’s presumptive nominee, Donald Trump, is perceived by many as more leftist than rightist, which would give Clinton the edge among conservative voters. Who knew the placement or direction of an arrow could spell victory or defeat for an American presidential candidate? Rate this:\"\n",
    "x_parsed = parseLIWC(x)\n",
    "\n",
    "liwc_ct = [x_parsed[name.replace(\"liwc_ct.\",\"\")] for name in X_train.columns]\n",
    "liwc_sum = sum(liwc_ct)\n",
    "liwc_ip = [ (xi*1.0)/liwc_sum for xi in liwc_ct]"
   ]
  },
  {
   "cell_type": "code",
   "execution_count": 444,
   "metadata": {},
   "outputs": [
    {
     "data": {
      "text/plain": [
       "Index(['liwc_ct.Prep', 'liwc_ct.Space', 'liwc_ct.Relativ', 'liwc_ct.Function',\n",
       "       'liwc_ct.Article', 'liwc_ct.Percept', 'liwc_ct.See', 'liwc_ct.Power',\n",
       "       'liwc_ct.Drives', 'liwc_ct.Social', 'liwc_ct.Adverb',\n",
       "       'liwc_ct.FocusPresent', 'liwc_ct.Verb', 'liwc_ct.Auxverb',\n",
       "       'liwc_ct.Negate', 'liwc_ct.Affect', 'liwc_ct.Negemo', 'liwc_ct.Anx',\n",
       "       'liwc_ct.Risk', 'liwc_ct.Tentat', 'liwc_ct.CogProc', 'liwc_ct.Interrog',\n",
       "       'liwc_ct.Ipron', 'liwc_ct.Pronoun', 'liwc_ct.Time', 'liwc_ct.Compare',\n",
       "       'liwc_ct.We', 'liwc_ct.Ppron', 'liwc_ct.Affiliation', 'liwc_ct.Conj',\n",
       "       'liwc_ct.Insight', 'liwc_ct.Number', 'liwc_ct.Adj', 'liwc_ct.Posemo',\n",
       "       'liwc_ct.Nonflu', 'liwc_ct.Informal', 'liwc_ct.Motion',\n",
       "       'liwc_ct.FocusPast', 'liwc_ct.SheHe', 'liwc_ct.Male',\n",
       "       'liwc_ct.FocusFuture', 'liwc_ct.Achieve', 'liwc_ct.Work',\n",
       "       'liwc_ct.Hear', 'liwc_ct.Discrep', 'liwc_ct.Differ', 'liwc_ct.They',\n",
       "       'liwc_ct.I', 'liwc_ct.Money', 'liwc_ct.Bio', 'liwc_ct.Sexual',\n",
       "       'liwc_ct.Certain', 'liwc_ct.Cause', 'liwc_ct.Reward', 'liwc_ct.Quant',\n",
       "       'liwc_ct.Feel', 'liwc_ct.Body', 'liwc_ct.Relig', 'liwc_ct.Friend',\n",
       "       'liwc_ct.Leisure', 'liwc_ct.Health', 'liwc_ct.Anger', 'liwc_ct.Family',\n",
       "       'liwc_ct.You', 'liwc_ct.Female', 'liwc_ct.Sad', 'liwc_ct.Ingest',\n",
       "       'liwc_ct.Assent', 'liwc_ct.Death', 'liwc_ct.Home', 'liwc_ct.Netspeak',\n",
       "       'liwc_ct.Swear', 'liwc_ct.Filler'],\n",
       "      dtype='object')"
      ]
     },
     "execution_count": 444,
     "metadata": {},
     "output_type": "execute_result"
    }
   ],
   "source": [
    "liwc_df.columns[1:]"
   ]
  },
  {
   "cell_type": "code",
   "execution_count": 438,
   "metadata": {},
   "outputs": [
    {
     "data": {
      "text/plain": [
       "376"
      ]
     },
     "execution_count": 438,
     "metadata": {},
     "output_type": "execute_result"
    }
   ],
   "source": [
    "sum(liwc_ct)"
   ]
  },
  {
   "cell_type": "code",
   "execution_count": 60,
   "metadata": {},
   "outputs": [],
   "source": [
    "df_flat1 = pd.read_csv('data/flaten_file.csv')"
   ]
  },
  {
   "cell_type": "code",
   "execution_count": 57,
   "metadata": {},
   "outputs": [],
   "source": [
    "\n",
    "df_flat[list(df_flat.columns[4:-1])] = (df_flat.T.iloc[4:-1] / df_flat.T.iloc[95]).T"
   ]
  },
  {
   "cell_type": "code",
   "execution_count": 364,
   "metadata": {},
   "outputs": [],
   "source": [
    "pos = df_flat.loc[:, (df_flat.columns.str.startswith('pos.')|df_flat.columns.str.startswith('label'))]"
   ]
  },
  {
   "cell_type": "code",
   "execution_count": 365,
   "metadata": {},
   "outputs": [],
   "source": [
    "pos_grouped = pos.groupby('label').sum().T"
   ]
  },
  {
   "cell_type": "code",
   "execution_count": 366,
   "metadata": {},
   "outputs": [],
   "source": [
    "# 0:10387\n",
    "# 1:10374\n",
    "pos_grouped[0] = pos_grouped[0]/10387\n",
    "pos_grouped[1] = pos_grouped[1]/10374"
   ]
  },
  {
   "cell_type": "code",
   "execution_count": 369,
   "metadata": {},
   "outputs": [
    {
     "data": {
      "text/html": [
       "<div>\n",
       "<style scoped>\n",
       "    .dataframe tbody tr th:only-of-type {\n",
       "        vertical-align: middle;\n",
       "    }\n",
       "\n",
       "    .dataframe tbody tr th {\n",
       "        vertical-align: top;\n",
       "    }\n",
       "\n",
       "    .dataframe thead th {\n",
       "        text-align: right;\n",
       "    }\n",
       "</style>\n",
       "<table border=\"1\" class=\"dataframe\">\n",
       "  <thead>\n",
       "    <tr style=\"text-align: right;\">\n",
       "      <th>label</th>\n",
       "      <th>0</th>\n",
       "      <th>1</th>\n",
       "      <th>delta</th>\n",
       "    </tr>\n",
       "  </thead>\n",
       "  <tbody>\n",
       "    <tr>\n",
       "      <th>pos.SPACE</th>\n",
       "      <td>0.016500</td>\n",
       "      <td>0.025098</td>\n",
       "      <td>0.008598</td>\n",
       "    </tr>\n",
       "    <tr>\n",
       "      <th>pos.ADJ</th>\n",
       "      <td>0.056697</td>\n",
       "      <td>0.061980</td>\n",
       "      <td>0.005282</td>\n",
       "    </tr>\n",
       "    <tr>\n",
       "      <th>pos.PROPN</th>\n",
       "      <td>0.108186</td>\n",
       "      <td>0.113454</td>\n",
       "      <td>0.005267</td>\n",
       "    </tr>\n",
       "    <tr>\n",
       "      <th>pos.NOUN</th>\n",
       "      <td>0.170192</td>\n",
       "      <td>0.175425</td>\n",
       "      <td>0.005233</td>\n",
       "    </tr>\n",
       "    <tr>\n",
       "      <th>pos.ADV</th>\n",
       "      <td>0.034170</td>\n",
       "      <td>0.037823</td>\n",
       "      <td>0.003653</td>\n",
       "    </tr>\n",
       "    <tr>\n",
       "      <th>pos.X</th>\n",
       "      <td>0.000778</td>\n",
       "      <td>0.003681</td>\n",
       "      <td>0.002903</td>\n",
       "    </tr>\n",
       "    <tr>\n",
       "      <th>pos.NUM</th>\n",
       "      <td>0.015744</td>\n",
       "      <td>0.018204</td>\n",
       "      <td>0.002460</td>\n",
       "    </tr>\n",
       "    <tr>\n",
       "      <th>pos.AUX</th>\n",
       "      <td>0.039317</td>\n",
       "      <td>0.041090</td>\n",
       "      <td>0.001772</td>\n",
       "    </tr>\n",
       "    <tr>\n",
       "      <th>pos.INTJ</th>\n",
       "      <td>0.000657</td>\n",
       "      <td>0.002071</td>\n",
       "      <td>0.001414</td>\n",
       "    </tr>\n",
       "    <tr>\n",
       "      <th>pos.SYM</th>\n",
       "      <td>0.001007</td>\n",
       "      <td>0.002012</td>\n",
       "      <td>0.001004</td>\n",
       "    </tr>\n",
       "    <tr>\n",
       "      <th>pos.SCONJ</th>\n",
       "      <td>0.013183</td>\n",
       "      <td>0.012330</td>\n",
       "      <td>-0.000854</td>\n",
       "    </tr>\n",
       "    <tr>\n",
       "      <th>pos.CCONJ</th>\n",
       "      <td>0.025545</td>\n",
       "      <td>0.024533</td>\n",
       "      <td>-0.001012</td>\n",
       "    </tr>\n",
       "    <tr>\n",
       "      <th>pos.PRON</th>\n",
       "      <td>0.052299</td>\n",
       "      <td>0.049522</td>\n",
       "      <td>-0.002776</td>\n",
       "    </tr>\n",
       "    <tr>\n",
       "      <th>pos.PART</th>\n",
       "      <td>0.027858</td>\n",
       "      <td>0.024942</td>\n",
       "      <td>-0.002916</td>\n",
       "    </tr>\n",
       "    <tr>\n",
       "      <th>pos.VERB</th>\n",
       "      <td>0.113778</td>\n",
       "      <td>0.109248</td>\n",
       "      <td>-0.004530</td>\n",
       "    </tr>\n",
       "    <tr>\n",
       "      <th>pos.PUNCT</th>\n",
       "      <td>0.127142</td>\n",
       "      <td>0.119174</td>\n",
       "      <td>-0.007968</td>\n",
       "    </tr>\n",
       "    <tr>\n",
       "      <th>pos.ADP</th>\n",
       "      <td>0.103716</td>\n",
       "      <td>0.095078</td>\n",
       "      <td>-0.008638</td>\n",
       "    </tr>\n",
       "    <tr>\n",
       "      <th>pos.DET</th>\n",
       "      <td>0.093229</td>\n",
       "      <td>0.084335</td>\n",
       "      <td>-0.008894</td>\n",
       "    </tr>\n",
       "  </tbody>\n",
       "</table>\n",
       "</div>"
      ],
      "text/plain": [
       "label             0         1     delta\n",
       "pos.SPACE  0.016500  0.025098  0.008598\n",
       "pos.ADJ    0.056697  0.061980  0.005282\n",
       "pos.PROPN  0.108186  0.113454  0.005267\n",
       "pos.NOUN   0.170192  0.175425  0.005233\n",
       "pos.ADV    0.034170  0.037823  0.003653\n",
       "pos.X      0.000778  0.003681  0.002903\n",
       "pos.NUM    0.015744  0.018204  0.002460\n",
       "pos.AUX    0.039317  0.041090  0.001772\n",
       "pos.INTJ   0.000657  0.002071  0.001414\n",
       "pos.SYM    0.001007  0.002012  0.001004\n",
       "pos.SCONJ  0.013183  0.012330 -0.000854\n",
       "pos.CCONJ  0.025545  0.024533 -0.001012\n",
       "pos.PRON   0.052299  0.049522 -0.002776\n",
       "pos.PART   0.027858  0.024942 -0.002916\n",
       "pos.VERB   0.113778  0.109248 -0.004530\n",
       "pos.PUNCT  0.127142  0.119174 -0.007968\n",
       "pos.ADP    0.103716  0.095078 -0.008638\n",
       "pos.DET    0.093229  0.084335 -0.008894"
      ]
     },
     "execution_count": 369,
     "metadata": {},
     "output_type": "execute_result"
    }
   ],
   "source": [
    "pos_grouped[['pos.ADJ','pos.PROPN','pos.NOUN','pos.PUNCT','pos.ADP','pos.DET']]"
   ]
  },
  {
   "cell_type": "code",
   "execution_count": 368,
   "metadata": {},
   "outputs": [],
   "source": [
    "pos_grouped['delta'] =pos_grouped[1] -pos_grouped[0]#.T\n",
    "pos_grouped = pos_grouped.sort_values(by='delta',ascending=False)"
   ]
  },
  {
   "cell_type": "code",
   "execution_count": 346,
   "metadata": {},
   "outputs": [
    {
     "name": "stderr",
     "output_type": "stream",
     "text": [
      "/Library/Frameworks/Python.framework/Versions/3.7/lib/python3.7/site-packages/ipykernel_launcher.py:2: SettingWithCopyWarning:\n",
      "\n",
      "\n",
      "A value is trying to be set on a copy of a slice from a DataFrame.\n",
      "Try using .loc[row_indexer,col_indexer] = value instead\n",
      "\n",
      "See the caveats in the documentation: http://pandas.pydata.org/pandas-docs/stable/user_guide/indexing.html#returning-a-view-versus-a-copy\n",
      "\n",
      "/Library/Frameworks/Python.framework/Versions/3.7/lib/python3.7/site-packages/ipykernel_launcher.py:6: SettingWithCopyWarning:\n",
      "\n",
      "\n",
      "A value is trying to be set on a copy of a slice from a DataFrame.\n",
      "Try using .loc[row_indexer,col_indexer] = value instead\n",
      "\n",
      "See the caveats in the documentation: http://pandas.pydata.org/pandas-docs/stable/user_guide/indexing.html#returning-a-view-versus-a-copy\n",
      "\n"
     ]
    }
   ],
   "source": [
    "fal = pos_grouped[[0]]\n",
    "fal['label']=['False']*len(pos_grouped)\n",
    "fal['pos']=pos_grouped.index\n",
    "fal = fal.rename(columns={0: 'value'})\n",
    "tru = pos_grouped[[1]]\n",
    "tru['label']=['True']*len(pos_grouped)\n",
    "tru['pos']=pos_grouped.index\n",
    "tru = tru.rename(columns={1: 'value'})"
   ]
  },
  {
   "cell_type": "code",
   "execution_count": 347,
   "metadata": {},
   "outputs": [],
   "source": [
    "fal_tru = pd.concat([fal, tru],axis=0)"
   ]
  },
  {
   "cell_type": "code",
   "execution_count": 348,
   "metadata": {},
   "outputs": [
    {
     "data": {
      "text/html": [
       "\n",
       "<div id=\"altair-viz-82bbf029a11c4e1092ce125826609274\"></div>\n",
       "<script type=\"text/javascript\">\n",
       "  (function(spec, embedOpt){\n",
       "    let outputDiv = document.currentScript.previousElementSibling;\n",
       "    if (outputDiv.id !== \"altair-viz-82bbf029a11c4e1092ce125826609274\") {\n",
       "      outputDiv = document.getElementById(\"altair-viz-82bbf029a11c4e1092ce125826609274\");\n",
       "    }\n",
       "    const paths = {\n",
       "      \"vega\": \"https://cdn.jsdelivr.net/npm//vega@5?noext\",\n",
       "      \"vega-lib\": \"https://cdn.jsdelivr.net/npm//vega-lib?noext\",\n",
       "      \"vega-lite\": \"https://cdn.jsdelivr.net/npm//vega-lite@4.8.1?noext\",\n",
       "      \"vega-embed\": \"https://cdn.jsdelivr.net/npm//vega-embed@6?noext\",\n",
       "    };\n",
       "\n",
       "    function loadScript(lib) {\n",
       "      return new Promise(function(resolve, reject) {\n",
       "        var s = document.createElement('script');\n",
       "        s.src = paths[lib];\n",
       "        s.async = true;\n",
       "        s.onload = () => resolve(paths[lib]);\n",
       "        s.onerror = () => reject(`Error loading script: ${paths[lib]}`);\n",
       "        document.getElementsByTagName(\"head\")[0].appendChild(s);\n",
       "      });\n",
       "    }\n",
       "\n",
       "    function showError(err) {\n",
       "      outputDiv.innerHTML = `<div class=\"error\" style=\"color:red;\">${err}</div>`;\n",
       "      throw err;\n",
       "    }\n",
       "\n",
       "    function displayChart(vegaEmbed) {\n",
       "      vegaEmbed(outputDiv, spec, embedOpt)\n",
       "        .catch(err => showError(`Javascript Error: ${err.message}<br>This usually means there's a typo in your chart specification. See the javascript console for the full traceback.`));\n",
       "    }\n",
       "\n",
       "    if(typeof define === \"function\" && define.amd) {\n",
       "      requirejs.config({paths});\n",
       "      require([\"vega-embed\"], displayChart, err => showError(`Error loading script: ${err.message}`));\n",
       "    } else if (typeof vegaEmbed === \"function\") {\n",
       "      displayChart(vegaEmbed);\n",
       "    } else {\n",
       "      loadScript(\"vega\")\n",
       "        .then(() => loadScript(\"vega-lite\"))\n",
       "        .then(() => loadScript(\"vega-embed\"))\n",
       "        .catch(showError)\n",
       "        .then(() => displayChart(vegaEmbed));\n",
       "    }\n",
       "  })({\"config\": {\"view\": {\"continuousWidth\": 400, \"continuousHeight\": 300}}, \"data\": {\"name\": \"data-524e0188ae4b5b0bde54808e0def8a07\"}, \"mark\": \"bar\", \"encoding\": {\"color\": {\"type\": \"nominal\", \"field\": \"label\"}, \"column\": {\"type\": \"nominal\", \"field\": \"pos\"}, \"x\": {\"type\": \"ordinal\", \"field\": \"label\"}, \"y\": {\"type\": \"quantitative\", \"field\": \"value\"}}, \"$schema\": \"https://vega.github.io/schema/vega-lite/v4.8.1.json\", \"datasets\": {\"data-524e0188ae4b5b0bde54808e0def8a07\": [{\"value\": 0.01649977228751129, \"label\": \"False\", \"pos\": \"pos.SPACE\"}, {\"value\": 0.05669743129530965, \"label\": \"False\", \"pos\": \"pos.ADJ\"}, {\"value\": 0.10818623817250482, \"label\": \"False\", \"pos\": \"pos.PROPN\"}, {\"value\": 0.17019237935974632, \"label\": \"False\", \"pos\": \"pos.NOUN\"}, {\"value\": 0.03417025983988808, \"label\": \"False\", \"pos\": \"pos.ADV\"}, {\"value\": 0.0007781963809920491, \"label\": \"False\", \"pos\": \"pos.X\"}, {\"value\": 0.01574398150507202, \"label\": \"False\", \"pos\": \"pos.NUM\"}, {\"value\": 0.03931731005510152, \"label\": \"False\", \"pos\": \"pos.AUX\"}, {\"value\": 0.0006567551275380763, \"label\": \"False\", \"pos\": \"pos.INTJ\"}, {\"value\": 0.001007170420548827, \"label\": \"False\", \"pos\": \"pos.SYM\"}, {\"value\": 0.013183308034665976, \"label\": \"False\", \"pos\": \"pos.SCONJ\"}, {\"value\": 0.02554479973032757, \"label\": \"False\", \"pos\": \"pos.CCONJ\"}, {\"value\": 0.052298860068487156, \"label\": \"False\", \"pos\": \"pos.PRON\"}, {\"value\": 0.027858436852502822, \"label\": \"False\", \"pos\": \"pos.PART\"}, {\"value\": 0.11377765655186023, \"label\": \"False\", \"pos\": \"pos.VERB\"}, {\"value\": 0.12714179145649054, \"label\": \"False\", \"pos\": \"pos.PUNCT\"}, {\"value\": 0.10371642800518541, \"label\": \"False\", \"pos\": \"pos.ADP\"}, {\"value\": 0.09322922485627043, \"label\": \"False\", \"pos\": \"pos.DET\"}, {\"value\": 0.025098046296797412, \"label\": \"True\", \"pos\": \"pos.SPACE\"}, {\"value\": 0.0619799230626692, \"label\": \"True\", \"pos\": \"pos.ADJ\"}, {\"value\": 0.11345352500016977, \"label\": \"True\", \"pos\": \"pos.PROPN\"}, {\"value\": 0.17542515352846447, \"label\": \"True\", \"pos\": \"pos.NOUN\"}, {\"value\": 0.03782339136631523, \"label\": \"True\", \"pos\": \"pos.ADV\"}, {\"value\": 0.0036812700077814547, \"label\": \"True\", \"pos\": \"pos.X\"}, {\"value\": 0.018204215148645973, \"label\": \"True\", \"pos\": \"pos.NUM\"}, {\"value\": 0.041089784882926673, \"label\": \"True\", \"pos\": \"pos.AUX\"}, {\"value\": 0.002070773214330964, \"label\": \"True\", \"pos\": \"pos.INTJ\"}, {\"value\": 0.0020115843487858625, \"label\": \"True\", \"pos\": \"pos.SYM\"}, {\"value\": 0.01232975150983381, \"label\": \"True\", \"pos\": \"pos.SCONJ\"}, {\"value\": 0.024533075576680937, \"label\": \"True\", \"pos\": \"pos.CCONJ\"}, {\"value\": 0.04952247463275299, \"label\": \"True\", \"pos\": \"pos.PRON\"}, {\"value\": 0.02494208069304885, \"label\": \"True\", \"pos\": \"pos.PART\"}, {\"value\": 0.1092475049553307, \"label\": \"True\", \"pos\": \"pos.VERB\"}, {\"value\": 0.1191737556188069, \"label\": \"True\", \"pos\": \"pos.PUNCT\"}, {\"value\": 0.09507838110295948, \"label\": \"True\", \"pos\": \"pos.ADP\"}, {\"value\": 0.08433530905370219, \"label\": \"True\", \"pos\": \"pos.DET\"}]}}, {\"mode\": \"vega-lite\"});\n",
       "</script>"
      ],
      "text/plain": [
       "alt.Chart(...)"
      ]
     },
     "execution_count": 348,
     "metadata": {},
     "output_type": "execute_result"
    }
   ],
   "source": [
    "import altair as alt\n",
    "\n",
    "alt.Chart(fal_tru).mark_bar().encode(\n",
    "    x='label:O',\n",
    "    y='value:Q',\n",
    "    color='label:N',\n",
    "    column='pos:N'\n",
    ")"
   ]
  },
  {
   "cell_type": "code",
   "execution_count": 222,
   "metadata": {},
   "outputs": [
    {
     "data": {
      "text/html": [
       "<div>\n",
       "<style scoped>\n",
       "    .dataframe tbody tr th:only-of-type {\n",
       "        vertical-align: middle;\n",
       "    }\n",
       "\n",
       "    .dataframe tbody tr th {\n",
       "        vertical-align: top;\n",
       "    }\n",
       "\n",
       "    .dataframe thead th {\n",
       "        text-align: right;\n",
       "    }\n",
       "</style>\n",
       "<table border=\"1\" class=\"dataframe\">\n",
       "  <thead>\n",
       "    <tr style=\"text-align: right;\">\n",
       "      <th>label</th>\n",
       "      <th>0</th>\n",
       "      <th>1</th>\n",
       "    </tr>\n",
       "  </thead>\n",
       "  <tbody>\n",
       "    <tr>\n",
       "      <th>liwc_ct.Prep</th>\n",
       "      <td>0.119313</td>\n",
       "      <td>0.106406</td>\n",
       "    </tr>\n",
       "    <tr>\n",
       "      <th>liwc_ct.Space</th>\n",
       "      <td>0.057148</td>\n",
       "      <td>0.051182</td>\n",
       "    </tr>\n",
       "    <tr>\n",
       "      <th>liwc_ct.Relativ</th>\n",
       "      <td>0.102153</td>\n",
       "      <td>0.090387</td>\n",
       "    </tr>\n",
       "    <tr>\n",
       "      <th>liwc_ct.Function</th>\n",
       "      <td>0.342533</td>\n",
       "      <td>0.316042</td>\n",
       "    </tr>\n",
       "    <tr>\n",
       "      <th>liwc_ct.Article</th>\n",
       "      <td>0.068242</td>\n",
       "      <td>0.056855</td>\n",
       "    </tr>\n",
       "    <tr>\n",
       "      <th>...</th>\n",
       "      <td>...</td>\n",
       "      <td>...</td>\n",
       "    </tr>\n",
       "    <tr>\n",
       "      <th>liwc_ct.Death</th>\n",
       "      <td>0.001951</td>\n",
       "      <td>0.002206</td>\n",
       "    </tr>\n",
       "    <tr>\n",
       "      <th>liwc_ct.Home</th>\n",
       "      <td>0.002579</td>\n",
       "      <td>0.001858</td>\n",
       "    </tr>\n",
       "    <tr>\n",
       "      <th>liwc_ct.Netspeak</th>\n",
       "      <td>0.000358</td>\n",
       "      <td>0.000851</td>\n",
       "    </tr>\n",
       "    <tr>\n",
       "      <th>liwc_ct.Swear</th>\n",
       "      <td>0.000156</td>\n",
       "      <td>0.000729</td>\n",
       "    </tr>\n",
       "    <tr>\n",
       "      <th>liwc_ct.Filler</th>\n",
       "      <td>0.000026</td>\n",
       "      <td>0.000040</td>\n",
       "    </tr>\n",
       "  </tbody>\n",
       "</table>\n",
       "<p>73 rows × 2 columns</p>\n",
       "</div>"
      ],
      "text/plain": [
       "label                    0         1\n",
       "liwc_ct.Prep      0.119313  0.106406\n",
       "liwc_ct.Space     0.057148  0.051182\n",
       "liwc_ct.Relativ   0.102153  0.090387\n",
       "liwc_ct.Function  0.342533  0.316042\n",
       "liwc_ct.Article   0.068242  0.056855\n",
       "...                    ...       ...\n",
       "liwc_ct.Death     0.001951  0.002206\n",
       "liwc_ct.Home      0.002579  0.001858\n",
       "liwc_ct.Netspeak  0.000358  0.000851\n",
       "liwc_ct.Swear     0.000156  0.000729\n",
       "liwc_ct.Filler    0.000026  0.000040\n",
       "\n",
       "[73 rows x 2 columns]"
      ]
     },
     "execution_count": 222,
     "metadata": {},
     "output_type": "execute_result"
    }
   ],
   "source": [
    "liwc_grouped"
   ]
  },
  {
   "cell_type": "code",
   "execution_count": 317,
   "metadata": {},
   "outputs": [
    {
     "data": {
      "text/html": [
       "\n",
       "<div id=\"altair-viz-1cfc0e85a7c34e1880a50651c605fa16\"></div>\n",
       "<script type=\"text/javascript\">\n",
       "  (function(spec, embedOpt){\n",
       "    let outputDiv = document.currentScript.previousElementSibling;\n",
       "    if (outputDiv.id !== \"altair-viz-1cfc0e85a7c34e1880a50651c605fa16\") {\n",
       "      outputDiv = document.getElementById(\"altair-viz-1cfc0e85a7c34e1880a50651c605fa16\");\n",
       "    }\n",
       "    const paths = {\n",
       "      \"vega\": \"https://cdn.jsdelivr.net/npm//vega@5?noext\",\n",
       "      \"vega-lib\": \"https://cdn.jsdelivr.net/npm//vega-lib?noext\",\n",
       "      \"vega-lite\": \"https://cdn.jsdelivr.net/npm//vega-lite@4.8.1?noext\",\n",
       "      \"vega-embed\": \"https://cdn.jsdelivr.net/npm//vega-embed@6?noext\",\n",
       "    };\n",
       "\n",
       "    function loadScript(lib) {\n",
       "      return new Promise(function(resolve, reject) {\n",
       "        var s = document.createElement('script');\n",
       "        s.src = paths[lib];\n",
       "        s.async = true;\n",
       "        s.onload = () => resolve(paths[lib]);\n",
       "        s.onerror = () => reject(`Error loading script: ${paths[lib]}`);\n",
       "        document.getElementsByTagName(\"head\")[0].appendChild(s);\n",
       "      });\n",
       "    }\n",
       "\n",
       "    function showError(err) {\n",
       "      outputDiv.innerHTML = `<div class=\"error\" style=\"color:red;\">${err}</div>`;\n",
       "      throw err;\n",
       "    }\n",
       "\n",
       "    function displayChart(vegaEmbed) {\n",
       "      vegaEmbed(outputDiv, spec, embedOpt)\n",
       "        .catch(err => showError(`Javascript Error: ${err.message}<br>This usually means there's a typo in your chart specification. See the javascript console for the full traceback.`));\n",
       "    }\n",
       "\n",
       "    if(typeof define === \"function\" && define.amd) {\n",
       "      requirejs.config({paths});\n",
       "      require([\"vega-embed\"], displayChart, err => showError(`Error loading script: ${err.message}`));\n",
       "    } else if (typeof vegaEmbed === \"function\") {\n",
       "      displayChart(vegaEmbed);\n",
       "    } else {\n",
       "      loadScript(\"vega\")\n",
       "        .then(() => loadScript(\"vega-lite\"))\n",
       "        .then(() => loadScript(\"vega-embed\"))\n",
       "        .catch(showError)\n",
       "        .then(() => displayChart(vegaEmbed));\n",
       "    }\n",
       "  })({\"config\": {\"view\": {\"continuousWidth\": 400, \"continuousHeight\": 300}}, \"data\": {\"name\": \"data-04084874ced73fff0179bd3fad477ea5\"}, \"mark\": \"bar\", \"encoding\": {\"color\": {\"type\": \"nominal\", \"field\": \"label\"}, \"column\": {\"type\": \"nominal\", \"field\": \"pos\"}, \"x\": {\"type\": \"ordinal\", \"field\": \"label\"}, \"y\": {\"type\": \"quantitative\", \"field\": \"value\"}}, \"$schema\": \"https://vega.github.io/schema/vega-lite/v4.8.1.json\", \"datasets\": {\"data-04084874ced73fff0179bd3fad477ea5\": [{\"value\": 0.11931271584228995, \"label\": \"False\", \"pos\": \"liwc_ct.Prep\"}, {\"value\": 0.05714811422454538, \"label\": \"False\", \"pos\": \"liwc_ct.Space\"}, {\"value\": 0.1021531060259415, \"label\": \"False\", \"pos\": \"liwc_ct.Relativ\"}, {\"value\": 0.3425327029405164, \"label\": \"False\", \"pos\": \"liwc_ct.Function\"}, {\"value\": 0.06824238329666887, \"label\": \"False\", \"pos\": \"liwc_ct.Article\"}, {\"value\": 0.019794457543110065, \"label\": \"False\", \"pos\": \"liwc_ct.Percept\"}, {\"value\": 0.00630951704822714, \"label\": \"False\", \"pos\": \"liwc_ct.See\"}, {\"value\": 0.032003093950649104, \"label\": \"False\", \"pos\": \"liwc_ct.Power\"}, {\"value\": 0.06160002860369749, \"label\": \"False\", \"pos\": \"liwc_ct.Drives\"}, {\"value\": 0.06832365334332126, \"label\": \"False\", \"pos\": \"liwc_ct.Social\"}, {\"value\": 0.021495422828275924, \"label\": \"False\", \"pos\": \"liwc_ct.Adverb\"}, {\"value\": 0.04418448428857774, \"label\": \"False\", \"pos\": \"liwc_ct.FocusPresent\"}, {\"value\": 0.09198208428728524, \"label\": \"False\", \"pos\": \"liwc_ct.Verb\"}, {\"value\": 0.04615570710136566, \"label\": \"False\", \"pos\": \"liwc_ct.Auxverb\"}, {\"value\": 0.005672644474035643, \"label\": \"False\", \"pos\": \"liwc_ct.Negate\"}, {\"value\": 0.03154282967853433, \"label\": \"False\", \"pos\": \"liwc_ct.Affect\"}, {\"value\": 0.01491168203257924, \"label\": \"False\", \"pos\": \"liwc_ct.Negemo\"}, {\"value\": 0.0026767953940730702, \"label\": \"False\", \"pos\": \"liwc_ct.Anx\"}, {\"value\": 0.005166833762690259, \"label\": \"False\", \"pos\": \"liwc_ct.Risk\"}, {\"value\": 0.013549628142358846, \"label\": \"False\", \"pos\": \"liwc_ct.Tentat\"}, {\"value\": 0.06157478463872841, \"label\": \"False\", \"pos\": \"liwc_ct.CogProc\"}, {\"value\": 0.010043891004349307, \"label\": \"False\", \"pos\": \"liwc_ct.Interrog\"}, {\"value\": 0.0315187637376962, \"label\": \"False\", \"pos\": \"liwc_ct.Ipron\"}, {\"value\": 0.05900376515592294, \"label\": \"False\", \"pos\": \"liwc_ct.Pronoun\"}, {\"value\": 0.03208580395486905, \"label\": \"False\", \"pos\": \"liwc_ct.Time\"}, {\"value\": 0.0184886212232689, \"label\": \"False\", \"pos\": \"liwc_ct.Compare\"}, {\"value\": 0.003261212276492163, \"label\": \"False\", \"pos\": \"liwc_ct.We\"}, {\"value\": 0.027465608470335152, \"label\": \"False\", \"pos\": \"liwc_ct.Ppron\"}, {\"value\": 0.012520302696995058, \"label\": \"False\", \"pos\": \"liwc_ct.Affiliation\"}, {\"value\": 0.03613116847943024, \"label\": \"False\", \"pos\": \"liwc_ct.Conj\"}, {\"value\": 0.013787043212260609, \"label\": \"False\", \"pos\": \"liwc_ct.Insight\"}, {\"value\": 0.00737594651963048, \"label\": \"False\", \"pos\": \"liwc_ct.Number\"}, {\"value\": 0.03144225507728789, \"label\": \"False\", \"pos\": \"liwc_ct.Adj\"}, {\"value\": 0.01617526154880018, \"label\": \"False\", \"pos\": \"liwc_ct.Posemo\"}, {\"value\": 0.0004594415546338324, \"label\": \"False\", \"pos\": \"liwc_ct.Nonflu\"}, {\"value\": 0.00154929084998593, \"label\": \"False\", \"pos\": \"liwc_ct.Informal\"}, {\"value\": 0.013988237869086116, \"label\": \"False\", \"pos\": \"liwc_ct.Motion\"}, {\"value\": 0.03879930387454566, \"label\": \"False\", \"pos\": \"liwc_ct.FocusPast\"}, {\"value\": 0.014351123634089854, \"label\": \"False\", \"pos\": \"liwc_ct.SheHe\"}, {\"value\": 0.012294582215517918, \"label\": \"False\", \"pos\": \"liwc_ct.Male\"}, {\"value\": 0.00682575862581649, \"label\": \"False\", \"pos\": \"liwc_ct.FocusFuture\"}, {\"value\": 0.01274791407346949, \"label\": \"False\", \"pos\": \"liwc_ct.Achieve\"}, {\"value\": 0.03287721898935431, \"label\": \"False\", \"pos\": \"liwc_ct.Work\"}, {\"value\": 0.010507417267340327, \"label\": \"False\", \"pos\": \"liwc_ct.Hear\"}, {\"value\": 0.007814565771686011, \"label\": \"False\", \"pos\": \"liwc_ct.Discrep\"}, {\"value\": 0.015301313544421614, \"label\": \"False\", \"pos\": \"liwc_ct.Differ\"}, {\"value\": 0.005887515010290926, \"label\": \"False\", \"pos\": \"liwc_ct.They\"}, {\"value\": 0.001291685963217268, \"label\": \"False\", \"pos\": \"liwc_ct.I\"}, {\"value\": 0.00837229884978124, \"label\": \"False\", \"pos\": \"liwc_ct.Money\"}, {\"value\": 0.008932253142543358, \"label\": \"False\", \"pos\": \"liwc_ct.Bio\"}, {\"value\": 0.00079091136412829, \"label\": \"False\", \"pos\": \"liwc_ct.Sexual\"}, {\"value\": 0.006601516825452076, \"label\": \"False\", \"pos\": \"liwc_ct.Certain\"}, {\"value\": 0.011203290270169393, \"label\": \"False\", \"pos\": \"liwc_ct.Cause\"}, {\"value\": 0.0075804584374947375, \"label\": \"False\", \"pos\": \"liwc_ct.Reward\"}, {\"value\": 0.014505619731366558, \"label\": \"False\", \"pos\": \"liwc_ct.Quant\"}, {\"value\": 0.002317618082242683, \"label\": \"False\", \"pos\": \"liwc_ct.Feel\"}, {\"value\": 0.002587775932283027, \"label\": \"False\", \"pos\": \"liwc_ct.Body\"}, {\"value\": 0.001260672866206612, \"label\": \"False\", \"pos\": \"liwc_ct.Relig\"}, {\"value\": 0.001357433695114776, \"label\": \"False\", \"pos\": \"liwc_ct.Friend\"}, {\"value\": 0.008185074321435495, \"label\": \"False\", \"pos\": \"liwc_ct.Leisure\"}, {\"value\": 0.003886572849150022, \"label\": \"False\", \"pos\": \"liwc_ct.Health\"}, {\"value\": 0.005962265281439857, \"label\": \"False\", \"pos\": \"liwc_ct.Anger\"}, {\"value\": 0.002134964990982243, \"label\": \"False\", \"pos\": \"liwc_ct.Family\"}, {\"value\": 0.002674071586244909, \"label\": \"False\", \"pos\": \"liwc_ct.You\"}, {\"value\": 0.005215195100257069, \"label\": \"False\", \"pos\": \"liwc_ct.Female\"}, {\"value\": 0.0022397081121501685, \"label\": \"False\", \"pos\": \"liwc_ct.Sad\"}, {\"value\": 0.0019746463979815375, \"label\": \"False\", \"pos\": \"liwc_ct.Ingest\"}, {\"value\": 0.00022477444239686877, \"label\": \"False\", \"pos\": \"liwc_ct.Assent\"}, {\"value\": 0.001951053878056807, \"label\": \"False\", \"pos\": \"liwc_ct.Death\"}, {\"value\": 0.002578865840371032, \"label\": \"False\", \"pos\": \"liwc_ct.Home\"}, {\"value\": 0.00035805092453691046, \"label\": \"False\", \"pos\": \"liwc_ct.Netspeak\"}, {\"value\": 0.00015551305008704435, \"label\": \"False\", \"pos\": \"liwc_ct.Swear\"}, {\"value\": 2.5657199048666555e-05, \"label\": \"False\", \"pos\": \"liwc_ct.Filler\"}, {\"value\": 0.1064057918888855, \"label\": \"True\", \"pos\": \"liwc_ct.Prep\"}, {\"value\": 0.05118182443574068, \"label\": \"True\", \"pos\": \"liwc_ct.Space\"}, {\"value\": 0.09038651661886855, \"label\": \"True\", \"pos\": \"liwc_ct.Relativ\"}, {\"value\": 0.3160420158985157, \"label\": \"True\", \"pos\": \"liwc_ct.Function\"}, {\"value\": 0.05685468778428822, \"label\": \"True\", \"pos\": \"liwc_ct.Article\"}, {\"value\": 0.014613212616513606, \"label\": \"True\", \"pos\": \"liwc_ct.Percept\"}, {\"value\": 0.006707733536547102, \"label\": \"True\", \"pos\": \"liwc_ct.See\"}, {\"value\": 0.027754193253392206, \"label\": \"True\", \"pos\": \"liwc_ct.Power\"}, {\"value\": 0.0544670918067985, \"label\": \"True\", \"pos\": \"liwc_ct.Drives\"}, {\"value\": 0.05656060768783684, \"label\": \"True\", \"pos\": \"liwc_ct.Social\"}, {\"value\": 0.022611438450018107, \"label\": \"True\", \"pos\": \"liwc_ct.Adverb\"}, {\"value\": 0.05150579502607134, \"label\": \"True\", \"pos\": \"liwc_ct.FocusPresent\"}, {\"value\": 0.08538850716265267, \"label\": \"True\", \"pos\": \"liwc_ct.Verb\"}, {\"value\": 0.0467649427098173, \"label\": \"True\", \"pos\": \"liwc_ct.Auxverb\"}, {\"value\": 0.005963094528940487, \"label\": \"True\", \"pos\": \"liwc_ct.Negate\"}, {\"value\": 0.032329759476150174, \"label\": \"True\", \"pos\": \"liwc_ct.Affect\"}, {\"value\": 0.015633149539311445, \"label\": \"True\", \"pos\": \"liwc_ct.Negemo\"}, {\"value\": 0.002622577347116071, \"label\": \"True\", \"pos\": \"liwc_ct.Anx\"}, {\"value\": 0.004906350498359322, \"label\": \"True\", \"pos\": \"liwc_ct.Risk\"}, {\"value\": 0.013721245550942642, \"label\": \"True\", \"pos\": \"liwc_ct.Tentat\"}, {\"value\": 0.06417246864543405, \"label\": \"True\", \"pos\": \"liwc_ct.CogProc\"}, {\"value\": 0.008558314778205156, \"label\": \"True\", \"pos\": \"liwc_ct.Interrog\"}, {\"value\": 0.029883870945014542, \"label\": \"True\", \"pos\": \"liwc_ct.Ipron\"}, {\"value\": 0.05589004657652754, \"label\": \"True\", \"pos\": \"liwc_ct.Pronoun\"}, {\"value\": 0.027882445253149545, \"label\": \"True\", \"pos\": \"liwc_ct.Time\"}, {\"value\": 0.016004962281030394, \"label\": \"True\", \"pos\": \"liwc_ct.Compare\"}, {\"value\": 0.004456814891355896, \"label\": \"True\", \"pos\": \"liwc_ct.We\"}, {\"value\": 0.025982529651197392, \"label\": \"True\", \"pos\": \"liwc_ct.Ppron\"}, {\"value\": 0.011285514070414874, \"label\": \"True\", \"pos\": \"liwc_ct.Affiliation\"}, {\"value\": 0.03469687627273893, \"label\": \"True\", \"pos\": \"liwc_ct.Conj\"}, {\"value\": 0.014229523496353957, \"label\": \"True\", \"pos\": \"liwc_ct.Insight\"}, {\"value\": 0.006111293485489712, \"label\": \"True\", \"pos\": \"liwc_ct.Number\"}, {\"value\": 0.02958543058900578, \"label\": \"True\", \"pos\": \"liwc_ct.Adj\"}, {\"value\": 0.01629046098505288, \"label\": \"True\", \"pos\": \"liwc_ct.Posemo\"}, {\"value\": 0.0006665411286631761, \"label\": \"True\", \"pos\": \"liwc_ct.Nonflu\"}, {\"value\": 0.0030315037724189565, \"label\": \"True\", \"pos\": \"liwc_ct.Informal\"}, {\"value\": 0.01203297101608616, \"label\": \"True\", \"pos\": \"liwc_ct.Motion\"}, {\"value\": 0.02511203837775392, \"label\": \"True\", \"pos\": \"liwc_ct.FocusPast\"}, {\"value\": 0.008712942685197383, \"label\": \"True\", \"pos\": \"liwc_ct.SheHe\"}, {\"value\": 0.00700724173999751, \"label\": \"True\", \"pos\": \"liwc_ct.Male\"}, {\"value\": 0.007315457447858446, \"label\": \"True\", \"pos\": \"liwc_ct.FocusFuture\"}, {\"value\": 0.01045414879152364, \"label\": \"True\", \"pos\": \"liwc_ct.Achieve\"}, {\"value\": 0.023668317228755068, \"label\": \"True\", \"pos\": \"liwc_ct.Work\"}, {\"value\": 0.0048593065641921885, \"label\": \"True\", \"pos\": \"liwc_ct.Hear\"}, {\"value\": 0.007530271426920369, \"label\": \"True\", \"pos\": \"liwc_ct.Discrep\"}, {\"value\": 0.014839496185084343, \"label\": \"True\", \"pos\": \"liwc_ct.Differ\"}, {\"value\": 0.006245289309403625, \"label\": \"True\", \"pos\": \"liwc_ct.They\"}, {\"value\": 0.0016503207164362632, \"label\": \"True\", \"pos\": \"liwc_ct.I\"}, {\"value\": 0.007368029568291678, \"label\": \"True\", \"pos\": \"liwc_ct.Money\"}, {\"value\": 0.009987914058455184, \"label\": \"True\", \"pos\": \"liwc_ct.Bio\"}, {\"value\": 0.0008014577557961438, \"label\": \"True\", \"pos\": \"liwc_ct.Sexual\"}, {\"value\": 0.008708665975159166, \"label\": \"True\", \"pos\": \"liwc_ct.Certain\"}, {\"value\": 0.012424769362767296, \"label\": \"True\", \"pos\": \"liwc_ct.Cause\"}, {\"value\": 0.007357674722777354, \"label\": \"True\", \"pos\": \"liwc_ct.Reward\"}, {\"value\": 0.013810346074388368, \"label\": \"True\", \"pos\": \"liwc_ct.Quant\"}, {\"value\": 0.0022082737737605103, \"label\": \"True\", \"pos\": \"liwc_ct.Feel\"}, {\"value\": 0.0031208522871194327, \"label\": \"True\", \"pos\": \"liwc_ct.Body\"}, {\"value\": 0.0013419173602566307, \"label\": \"True\", \"pos\": \"liwc_ct.Relig\"}, {\"value\": 0.0010507780442718087, \"label\": \"True\", \"pos\": \"liwc_ct.Friend\"}, {\"value\": 0.005481317067228548, \"label\": \"True\", \"pos\": \"liwc_ct.Leisure\"}, {\"value\": 0.004130181751810942, \"label\": \"True\", \"pos\": \"liwc_ct.Health\"}, {\"value\": 0.0066212037951238105, \"label\": \"True\", \"pos\": \"liwc_ct.Anger\"}, {\"value\": 0.001486884345889011, \"label\": \"True\", \"pos\": \"liwc_ct.Family\"}, {\"value\": 0.00491742042010453, \"label\": \"True\", \"pos\": \"liwc_ct.You\"}, {\"value\": 0.004309587172929179, \"label\": \"True\", \"pos\": \"liwc_ct.Female\"}, {\"value\": 0.0021508721096299677, \"label\": \"True\", \"pos\": \"liwc_ct.Sad\"}, {\"value\": 0.0022579292421622543, \"label\": \"True\", \"pos\": \"liwc_ct.Ingest\"}, {\"value\": 0.00041601485701062526, \"label\": \"True\", \"pos\": \"liwc_ct.Assent\"}, {\"value\": 0.0022055580017767322, \"label\": \"True\", \"pos\": \"liwc_ct.Death\"}, {\"value\": 0.001858327010059867, \"label\": \"True\", \"pos\": \"liwc_ct.Home\"}, {\"value\": 0.0008506832125520355, \"label\": \"True\", \"pos\": \"liwc_ct.Netspeak\"}, {\"value\": 0.0007294304043057189, \"label\": \"True\", \"pos\": \"liwc_ct.Swear\"}, {\"value\": 3.996662573437221e-05, \"label\": \"True\", \"pos\": \"liwc_ct.Filler\"}]}}, {\"mode\": \"vega-lite\"});\n",
       "</script>"
      ],
      "text/plain": [
       "alt.Chart(...)"
      ]
     },
     "execution_count": 317,
     "metadata": {},
     "output_type": "execute_result"
    }
   ],
   "source": [
    "liwc_df = df_flat.loc[:, (df_flat.columns.str.startswith('liwc')|df_flat.columns.str.startswith('label'))]\n",
    "\n",
    "liwc_grouped = liwc_df.groupby('label').sum().T\n",
    "# 0:10387\n",
    "# 1:10374\n",
    "liwc_grouped[0] = liwc_grouped[0]/10387\n",
    "liwc_grouped[1] = liwc_grouped[1]/10374\n",
    "\n",
    "liwc_fal = liwc_grouped[[0]]\n",
    "liwc_fal['label']=['False']*len(liwc_grouped)\n",
    "liwc_fal['pos']=liwc_grouped.index\n",
    "liwc_fal = liwc_fal.rename(columns={0: 'value'})\n",
    "liwc_tru = liwc_grouped[[1]]\n",
    "liwc_tru['label']=['True']*len(liwc_grouped)\n",
    "liwc_tru['pos']=liwc_grouped.index\n",
    "liwc_tru = liwc_tru.rename(columns={1: 'value'})\n",
    "\n",
    "liwc_fal_tru = pd.concat([liwc_fal, liwc_tru],axis=0)\n",
    "\n",
    "\n",
    "alt.Chart(liwc_fal_tru).mark_bar().encode(\n",
    "    x='label:O',\n",
    "    y='value:Q',\n",
    "    color='label:N',\n",
    "    column='pos:N'\n",
    ")"
   ]
  },
  {
   "cell_type": "code",
   "execution_count": 350,
   "metadata": {},
   "outputs": [],
   "source": [
    "liwc_grouped['delta'] = liwc_grouped[1]-liwc_grouped[0]\n",
    "liwc_grouped = liwc_grouped.sort_values(by='delta',ascending=False)"
   ]
  },
  {
   "cell_type": "code",
   "execution_count": 358,
   "metadata": {},
   "outputs": [
    {
     "data": {
      "text/html": [
       "<div>\n",
       "<style scoped>\n",
       "    .dataframe tbody tr th:only-of-type {\n",
       "        vertical-align: middle;\n",
       "    }\n",
       "\n",
       "    .dataframe tbody tr th {\n",
       "        vertical-align: top;\n",
       "    }\n",
       "\n",
       "    .dataframe thead th {\n",
       "        text-align: right;\n",
       "    }\n",
       "</style>\n",
       "<table border=\"1\" class=\"dataframe\">\n",
       "  <thead>\n",
       "    <tr style=\"text-align: right;\">\n",
       "      <th></th>\n",
       "      <th>liwc_ct.Certain</th>\n",
       "      <th>liwc_ct.Informal</th>\n",
       "      <th>liwc_ct.Cause</th>\n",
       "      <th>liwc_ct.Ipron</th>\n",
       "      <th>liwc_ct.Adj</th>\n",
       "      <th>liwc_ct.Prep</th>\n",
       "      <th>liwc_ct.Function</th>\n",
       "    </tr>\n",
       "    <tr>\n",
       "      <th>label</th>\n",
       "      <th></th>\n",
       "      <th></th>\n",
       "      <th></th>\n",
       "      <th></th>\n",
       "      <th></th>\n",
       "      <th></th>\n",
       "      <th></th>\n",
       "    </tr>\n",
       "  </thead>\n",
       "  <tbody>\n",
       "    <tr>\n",
       "      <th>0</th>\n",
       "      <td>0.006602</td>\n",
       "      <td>0.001549</td>\n",
       "      <td>0.011203</td>\n",
       "      <td>0.031519</td>\n",
       "      <td>0.031442</td>\n",
       "      <td>0.119313</td>\n",
       "      <td>0.342533</td>\n",
       "    </tr>\n",
       "    <tr>\n",
       "      <th>1</th>\n",
       "      <td>0.008709</td>\n",
       "      <td>0.003032</td>\n",
       "      <td>0.012425</td>\n",
       "      <td>0.029884</td>\n",
       "      <td>0.029585</td>\n",
       "      <td>0.106406</td>\n",
       "      <td>0.316042</td>\n",
       "    </tr>\n",
       "  </tbody>\n",
       "</table>\n",
       "</div>"
      ],
      "text/plain": [
       "       liwc_ct.Certain  liwc_ct.Informal  liwc_ct.Cause  liwc_ct.Ipron  \\\n",
       "label                                                                    \n",
       "0             0.006602          0.001549       0.011203       0.031519   \n",
       "1             0.008709          0.003032       0.012425       0.029884   \n",
       "\n",
       "       liwc_ct.Adj  liwc_ct.Prep  liwc_ct.Function  \n",
       "label                                               \n",
       "0         0.031442      0.119313          0.342533  \n",
       "1         0.029585      0.106406          0.316042  "
      ]
     },
     "execution_count": 358,
     "metadata": {},
     "output_type": "execute_result"
    }
   ],
   "source": [
    "liwc_df = df_flat.loc[:, (df_flat.columns.str.startswith('liwc')|df_flat.columns.str.startswith('label'))]\n",
    "liwc_grouped = liwc_df.groupby('label').sum().T\n",
    "# 0:10387\n",
    "# 1:10374\n",
    "liwc_grouped[0] = liwc_grouped[0]/10387\n",
    "liwc_grouped[1] = liwc_grouped[1]/10374\n",
    "liwc_grouped_chart_d = liwc_grouped.T[['liwc_ct.Certain', 'liwc_ct.Informal', 'liwc_ct.Cause', 'liwc_ct.Ipron','liwc_ct.Adj', 'liwc_ct.Prep', 'liwc_ct.Function']]\n",
    "liwc_grouped_chart_d\n",
    "            "
   ]
  },
  {
   "cell_type": "code",
   "execution_count": 360,
   "metadata": {},
   "outputs": [
    {
     "data": {
      "text/plain": [
       "[0.006601516825452076,\n",
       " 0.00154929084998593,\n",
       " 0.011203290270169393,\n",
       " 0.0315187637376962,\n",
       " 0.03144225507728789,\n",
       " 0.11931271584228995,\n",
       " 0.3425327029405164]"
      ]
     },
     "execution_count": 360,
     "metadata": {},
     "output_type": "execute_result"
    }
   ],
   "source": [
    "list(liwc_grouped_chart_d.iloc[0])"
   ]
  },
  {
   "cell_type": "code",
   "execution_count": 353,
   "metadata": {},
   "outputs": [
    {
     "ename": "KeyError",
     "evalue": "\"None of [Index(['liwc_ct.FocusPresent', 'liwc_ct.CogProc', 'liwc_ct.Certain',\\n       'liwc_ct.Informal', 'liwc_ct.Cause', 'liwc_ct.Bio', 'liwc_ct.Affect',\\n       'liwc_ct.Negemo', 'liwc_ct.Netspeak', 'liwc_ct.FocusFuture',\\n       'liwc_ct.Insight', 'liwc_ct.Negate', 'liwc_ct.Ingest', 'liwc_ct.Assent',\\n       'liwc_ct.Sad', 'liwc_ct.Feel', 'liwc_ct.Reward', 'liwc_ct.Risk',\\n       'liwc_ct.Discrep', 'liwc_ct.Friend', 'liwc_ct.Differ', 'liwc_ct.Family',\\n       'liwc_ct.Quant', 'liwc_ct.Home', 'liwc_ct.Female', 'liwc_ct.Money',\\n       'liwc_ct.Affiliation', 'liwc_ct.Number', 'liwc_ct.Conj',\\n       'liwc_ct.Ppron', 'liwc_ct.Interrog', 'liwc_ct.Ipron', 'liwc_ct.Adj',\\n       'liwc_ct.Motion', 'liwc_ct.Achieve', 'liwc_ct.Compare',\\n       'liwc_ct.Leisure', 'liwc_ct.Pronoun', 'liwc_ct.Time', 'liwc_ct.Power',\\n       'liwc_ct.Percept', 'liwc_ct.Male', 'liwc_ct.SheHe', 'liwc_ct.Hear',\\n       'liwc_ct.Space', 'liwc_ct.Verb', 'liwc_ct.Drives', 'liwc_ct.Work',\\n       'liwc_ct.Article', 'liwc_ct.Social', 'liwc_ct.Relativ', 'liwc_ct.Prep',\\n       'liwc_ct.Function'],\\n      dtype='object', name='label')] are in the [columns]\"",
     "output_type": "error",
     "traceback": [
      "\u001b[0;31m---------------------------------------------------------------------------\u001b[0m",
      "\u001b[0;31mKeyError\u001b[0m                                  Traceback (most recent call last)",
      "\u001b[0;32m<ipython-input-353-7f195d2a4d0f>\u001b[0m in \u001b[0;36m<module>\u001b[0;34m\u001b[0m\n\u001b[1;32m     13\u001b[0m        \u001b[0;34m'liwc_ct.Percept'\u001b[0m\u001b[0;34m,\u001b[0m \u001b[0;34m'liwc_ct.Male'\u001b[0m\u001b[0;34m,\u001b[0m \u001b[0;34m'liwc_ct.SheHe'\u001b[0m\u001b[0;34m,\u001b[0m \u001b[0;34m'liwc_ct.Hear'\u001b[0m\u001b[0;34m,\u001b[0m\u001b[0;34m\u001b[0m\u001b[0;34m\u001b[0m\u001b[0m\n\u001b[1;32m     14\u001b[0m        \u001b[0;34m'liwc_ct.Space'\u001b[0m\u001b[0;34m,\u001b[0m \u001b[0;34m'liwc_ct.Verb'\u001b[0m\u001b[0;34m,\u001b[0m \u001b[0;34m'liwc_ct.Drives'\u001b[0m\u001b[0;34m,\u001b[0m \u001b[0;34m'liwc_ct.Work'\u001b[0m\u001b[0;34m,\u001b[0m\u001b[0;34m\u001b[0m\u001b[0;34m\u001b[0m\u001b[0m\n\u001b[0;32m---> 15\u001b[0;31m        'liwc_ct.Article', 'liwc_ct.Social', 'liwc_ct.Relativ', 'liwc_ct.Prep', 'liwc_ct.Function']]\n\u001b[0m",
      "\u001b[0;32m/Library/Frameworks/Python.framework/Versions/3.7/lib/python3.7/site-packages/pandas/core/frame.py\u001b[0m in \u001b[0;36m__getitem__\u001b[0;34m(self, key)\u001b[0m\n\u001b[1;32m   2999\u001b[0m             \u001b[0;32mif\u001b[0m \u001b[0mis_iterator\u001b[0m\u001b[0;34m(\u001b[0m\u001b[0mkey\u001b[0m\u001b[0;34m)\u001b[0m\u001b[0;34m:\u001b[0m\u001b[0;34m\u001b[0m\u001b[0;34m\u001b[0m\u001b[0m\n\u001b[1;32m   3000\u001b[0m                 \u001b[0mkey\u001b[0m \u001b[0;34m=\u001b[0m \u001b[0mlist\u001b[0m\u001b[0;34m(\u001b[0m\u001b[0mkey\u001b[0m\u001b[0;34m)\u001b[0m\u001b[0;34m\u001b[0m\u001b[0;34m\u001b[0m\u001b[0m\n\u001b[0;32m-> 3001\u001b[0;31m             \u001b[0mindexer\u001b[0m \u001b[0;34m=\u001b[0m \u001b[0mself\u001b[0m\u001b[0;34m.\u001b[0m\u001b[0mloc\u001b[0m\u001b[0;34m.\u001b[0m\u001b[0m_convert_to_indexer\u001b[0m\u001b[0;34m(\u001b[0m\u001b[0mkey\u001b[0m\u001b[0;34m,\u001b[0m \u001b[0maxis\u001b[0m\u001b[0;34m=\u001b[0m\u001b[0;36m1\u001b[0m\u001b[0;34m,\u001b[0m \u001b[0mraise_missing\u001b[0m\u001b[0;34m=\u001b[0m\u001b[0;32mTrue\u001b[0m\u001b[0;34m)\u001b[0m\u001b[0;34m\u001b[0m\u001b[0;34m\u001b[0m\u001b[0m\n\u001b[0m\u001b[1;32m   3002\u001b[0m \u001b[0;34m\u001b[0m\u001b[0m\n\u001b[1;32m   3003\u001b[0m         \u001b[0;31m# take() does not accept boolean indexers\u001b[0m\u001b[0;34m\u001b[0m\u001b[0;34m\u001b[0m\u001b[0;34m\u001b[0m\u001b[0m\n",
      "\u001b[0;32m/Library/Frameworks/Python.framework/Versions/3.7/lib/python3.7/site-packages/pandas/core/indexing.py\u001b[0m in \u001b[0;36m_convert_to_indexer\u001b[0;34m(self, obj, axis, is_setter, raise_missing)\u001b[0m\n\u001b[1;32m   1283\u001b[0m                 \u001b[0;31m# When setting, missing keys are not allowed, even with .loc:\u001b[0m\u001b[0;34m\u001b[0m\u001b[0;34m\u001b[0m\u001b[0;34m\u001b[0m\u001b[0m\n\u001b[1;32m   1284\u001b[0m                 \u001b[0mkwargs\u001b[0m \u001b[0;34m=\u001b[0m \u001b[0;34m{\u001b[0m\u001b[0;34m\"raise_missing\"\u001b[0m\u001b[0;34m:\u001b[0m \u001b[0;32mTrue\u001b[0m \u001b[0;32mif\u001b[0m \u001b[0mis_setter\u001b[0m \u001b[0;32melse\u001b[0m \u001b[0mraise_missing\u001b[0m\u001b[0;34m}\u001b[0m\u001b[0;34m\u001b[0m\u001b[0;34m\u001b[0m\u001b[0m\n\u001b[0;32m-> 1285\u001b[0;31m                 \u001b[0;32mreturn\u001b[0m \u001b[0mself\u001b[0m\u001b[0;34m.\u001b[0m\u001b[0m_get_listlike_indexer\u001b[0m\u001b[0;34m(\u001b[0m\u001b[0mobj\u001b[0m\u001b[0;34m,\u001b[0m \u001b[0maxis\u001b[0m\u001b[0;34m,\u001b[0m \u001b[0;34m**\u001b[0m\u001b[0mkwargs\u001b[0m\u001b[0;34m)\u001b[0m\u001b[0;34m[\u001b[0m\u001b[0;36m1\u001b[0m\u001b[0;34m]\u001b[0m\u001b[0;34m\u001b[0m\u001b[0;34m\u001b[0m\u001b[0m\n\u001b[0m\u001b[1;32m   1286\u001b[0m         \u001b[0;32melse\u001b[0m\u001b[0;34m:\u001b[0m\u001b[0;34m\u001b[0m\u001b[0;34m\u001b[0m\u001b[0m\n\u001b[1;32m   1287\u001b[0m             \u001b[0;32mtry\u001b[0m\u001b[0;34m:\u001b[0m\u001b[0;34m\u001b[0m\u001b[0;34m\u001b[0m\u001b[0m\n",
      "\u001b[0;32m/Library/Frameworks/Python.framework/Versions/3.7/lib/python3.7/site-packages/pandas/core/indexing.py\u001b[0m in \u001b[0;36m_get_listlike_indexer\u001b[0;34m(self, key, axis, raise_missing)\u001b[0m\n\u001b[1;32m   1090\u001b[0m \u001b[0;34m\u001b[0m\u001b[0m\n\u001b[1;32m   1091\u001b[0m         self._validate_read_indexer(\n\u001b[0;32m-> 1092\u001b[0;31m             \u001b[0mkeyarr\u001b[0m\u001b[0;34m,\u001b[0m \u001b[0mindexer\u001b[0m\u001b[0;34m,\u001b[0m \u001b[0mo\u001b[0m\u001b[0;34m.\u001b[0m\u001b[0m_get_axis_number\u001b[0m\u001b[0;34m(\u001b[0m\u001b[0maxis\u001b[0m\u001b[0;34m)\u001b[0m\u001b[0;34m,\u001b[0m \u001b[0mraise_missing\u001b[0m\u001b[0;34m=\u001b[0m\u001b[0mraise_missing\u001b[0m\u001b[0;34m\u001b[0m\u001b[0;34m\u001b[0m\u001b[0m\n\u001b[0m\u001b[1;32m   1093\u001b[0m         )\n\u001b[1;32m   1094\u001b[0m         \u001b[0;32mreturn\u001b[0m \u001b[0mkeyarr\u001b[0m\u001b[0;34m,\u001b[0m \u001b[0mindexer\u001b[0m\u001b[0;34m\u001b[0m\u001b[0;34m\u001b[0m\u001b[0m\n",
      "\u001b[0;32m/Library/Frameworks/Python.framework/Versions/3.7/lib/python3.7/site-packages/pandas/core/indexing.py\u001b[0m in \u001b[0;36m_validate_read_indexer\u001b[0;34m(self, key, indexer, axis, raise_missing)\u001b[0m\n\u001b[1;32m   1175\u001b[0m                 raise KeyError(\n\u001b[1;32m   1176\u001b[0m                     \"None of [{key}] are in the [{axis}]\".format(\n\u001b[0;32m-> 1177\u001b[0;31m                         \u001b[0mkey\u001b[0m\u001b[0;34m=\u001b[0m\u001b[0mkey\u001b[0m\u001b[0;34m,\u001b[0m \u001b[0maxis\u001b[0m\u001b[0;34m=\u001b[0m\u001b[0mself\u001b[0m\u001b[0;34m.\u001b[0m\u001b[0mobj\u001b[0m\u001b[0;34m.\u001b[0m\u001b[0m_get_axis_name\u001b[0m\u001b[0;34m(\u001b[0m\u001b[0maxis\u001b[0m\u001b[0;34m)\u001b[0m\u001b[0;34m\u001b[0m\u001b[0;34m\u001b[0m\u001b[0m\n\u001b[0m\u001b[1;32m   1178\u001b[0m                     )\n\u001b[1;32m   1179\u001b[0m                 )\n",
      "\u001b[0;31mKeyError\u001b[0m: \"None of [Index(['liwc_ct.FocusPresent', 'liwc_ct.CogProc', 'liwc_ct.Certain',\\n       'liwc_ct.Informal', 'liwc_ct.Cause', 'liwc_ct.Bio', 'liwc_ct.Affect',\\n       'liwc_ct.Negemo', 'liwc_ct.Netspeak', 'liwc_ct.FocusFuture',\\n       'liwc_ct.Insight', 'liwc_ct.Negate', 'liwc_ct.Ingest', 'liwc_ct.Assent',\\n       'liwc_ct.Sad', 'liwc_ct.Feel', 'liwc_ct.Reward', 'liwc_ct.Risk',\\n       'liwc_ct.Discrep', 'liwc_ct.Friend', 'liwc_ct.Differ', 'liwc_ct.Family',\\n       'liwc_ct.Quant', 'liwc_ct.Home', 'liwc_ct.Female', 'liwc_ct.Money',\\n       'liwc_ct.Affiliation', 'liwc_ct.Number', 'liwc_ct.Conj',\\n       'liwc_ct.Ppron', 'liwc_ct.Interrog', 'liwc_ct.Ipron', 'liwc_ct.Adj',\\n       'liwc_ct.Motion', 'liwc_ct.Achieve', 'liwc_ct.Compare',\\n       'liwc_ct.Leisure', 'liwc_ct.Pronoun', 'liwc_ct.Time', 'liwc_ct.Power',\\n       'liwc_ct.Percept', 'liwc_ct.Male', 'liwc_ct.SheHe', 'liwc_ct.Hear',\\n       'liwc_ct.Space', 'liwc_ct.Verb', 'liwc_ct.Drives', 'liwc_ct.Work',\\n       'liwc_ct.Article', 'liwc_ct.Social', 'liwc_ct.Relativ', 'liwc_ct.Prep',\\n       'liwc_ct.Function'],\\n      dtype='object', name='label')] are in the [columns]\""
     ]
    }
   ],
   "source": [
    "liwc_grouped[['liwc_ct.FocusPresent', 'liwc_ct.CogProc', 'liwc_ct.Certain', 'liwc_ct.Informal', 'liwc_ct.Cause', \n",
    "    'liwc_ct.Ipron', 'liwc_ct.Adj',\n",
    "       'liwc_ct.Prep', 'liwc_ct.Function']]"
   ]
  },
  {
   "cell_type": "code",
   "execution_count": 233,
   "metadata": {},
   "outputs": [],
   "source": [
    "news = news2[['text','label']]"
   ]
  },
  {
   "cell_type": "code",
   "execution_count": 249,
   "metadata": {},
   "outputs": [],
   "source": [
    "news_sampled = news.sample(frac=0.1, random_state=1)"
   ]
  },
  {
   "cell_type": "code",
   "execution_count": 305,
   "metadata": {},
   "outputs": [],
   "source": [
    "from sklearn.model_selection import train_test_split\n",
    "\n",
    "train, test = train_test_split(pos, test_size=0.2)"
   ]
  },
  {
   "cell_type": "code",
   "execution_count": 408,
   "metadata": {},
   "outputs": [
    {
     "name": "stdout",
     "output_type": "stream",
     "text": [
      "Fitting 5 folds for each of 5 candidates, totalling 25 fits\n"
     ]
    },
    {
     "name": "stderr",
     "output_type": "stream",
     "text": [
      "[Parallel(n_jobs=3)]: Using backend LokyBackend with 3 concurrent workers.\n",
      "[Parallel(n_jobs=3)]: Done  20 out of  25 | elapsed:    1.2s remaining:    0.3s\n",
      "[Parallel(n_jobs=3)]: Done  25 out of  25 | elapsed:    1.4s finished\n",
      "[Parallel(n_jobs=3)]: Using backend LokyBackend with 3 concurrent workers.\n"
     ]
    },
    {
     "name": "stdout",
     "output_type": "stream",
     "text": [
      "Fitting 5 folds for each of 5 candidates, totalling 25 fits\n"
     ]
    },
    {
     "name": "stderr",
     "output_type": "stream",
     "text": [
      "[Parallel(n_jobs=3)]: Done  20 out of  25 | elapsed:    1.3s remaining:    0.3s\n",
      "[Parallel(n_jobs=3)]: Done  25 out of  25 | elapsed:    3.3s finished\n"
     ]
    },
    {
     "name": "stdout",
     "output_type": "stream",
     "text": [
      "Fitting 5 folds for each of 5 candidates, totalling 25 fits\n"
     ]
    },
    {
     "name": "stderr",
     "output_type": "stream",
     "text": [
      "[Parallel(n_jobs=3)]: Using backend LokyBackend with 3 concurrent workers.\n",
      "[Parallel(n_jobs=3)]: Done  20 out of  25 | elapsed:    1.1s remaining:    0.3s\n",
      "[Parallel(n_jobs=3)]: Done  25 out of  25 | elapsed:    1.4s finished\n",
      "/Library/Frameworks/Python.framework/Versions/3.7/lib/python3.7/site-packages/sklearn/linear_model/_logistic.py:940: ConvergenceWarning:\n",
      "\n",
      "lbfgs failed to converge (status=1):\n",
      "STOP: TOTAL NO. of ITERATIONS REACHED LIMIT.\n",
      "\n",
      "Increase the number of iterations (max_iter) or scale the data as shown in:\n",
      "    https://scikit-learn.org/stable/modules/preprocessing.html\n",
      "Please also refer to the documentation for alternative solver options:\n",
      "    https://scikit-learn.org/stable/modules/linear_model.html#logistic-regression\n",
      "\n",
      "[Parallel(n_jobs=3)]: Using backend LokyBackend with 3 concurrent workers.\n"
     ]
    },
    {
     "name": "stdout",
     "output_type": "stream",
     "text": [
      "Fitting 5 folds for each of 5 candidates, totalling 25 fits\n"
     ]
    },
    {
     "name": "stderr",
     "output_type": "stream",
     "text": [
      "[Parallel(n_jobs=3)]: Done  25 out of  25 | elapsed:   23.5s finished\n"
     ]
    },
    {
     "name": "stdout",
     "output_type": "stream",
     "text": [
      "Fitting 5 folds for each of 5 candidates, totalling 25 fits\n"
     ]
    },
    {
     "name": "stderr",
     "output_type": "stream",
     "text": [
      "[Parallel(n_jobs=3)]: Using backend LokyBackend with 3 concurrent workers.\n",
      "[Parallel(n_jobs=3)]: Done  25 out of  25 | elapsed:  1.0min finished\n",
      "/Library/Frameworks/Python.framework/Versions/3.7/lib/python3.7/site-packages/sklearn/neural_network/_multilayer_perceptron.py:571: ConvergenceWarning:\n",
      "\n",
      "Stochastic Optimizer: Maximum iterations (200) reached and the optimization hasn't converged yet.\n",
      "\n"
     ]
    }
   ],
   "source": [
    "from sklearn.naive_bayes import MultinomialNB\n",
    "from sklearn.svm import LinearSVC\n",
    "from sklearn.linear_model import LogisticRegression\n",
    "from sklearn.ensemble import RandomForestClassifier\n",
    "from sklearn.neural_network import MLPClassifier\n",
    "from sklearn.model_selection import GridSearchCV\n",
    "from sklearn.model_selection import train_test_split\n",
    "\n",
    "X_train, X_test, y_train, y_test = train_test_split(pos[list(pos.columns)[1:]], list(pos['label']), test_size=0.2, random_state=42)\n",
    "\n",
    "names = [\n",
    "         \"Naive Bayes\",\n",
    "         \"Linear SVM\",\n",
    "         \"Logistic Regression\",\n",
    "         \"Random Forest\",\n",
    "         \"Multilayer Perceptron\"\n",
    "        ]\n",
    "\n",
    "classifiers = [\n",
    "    MultinomialNB(),\n",
    "    LinearSVC(),\n",
    "    LogisticRegression(),\n",
    "    RandomForestClassifier(),\n",
    "    MLPClassifier()\n",
    "]\n",
    "\n",
    "parameters = [\n",
    "              {'clf__alpha': (10, 1, 1e-1, 1e-2, 1e-3)},\n",
    "              {'clf__C': (np.logspace(-5, 1, 5))},\n",
    "              {'clf__C': (np.logspace(-5, 1, 5))},\n",
    "              {'clf__max_depth': (1, 2, 5, 10, 50)},\n",
    "              {'clf__alpha': (10, 1, 1e-1,1e-2, 1e-3)}\n",
    "             ]\n",
    "result = []\n",
    "for name, classifier, params in zip(names, classifiers, parameters):\n",
    "    clf_pipe = Pipeline([\n",
    "        #('vect', TfidfVectorizer(stop_words='english')),\n",
    "        ('clf', classifier),\n",
    "    ])\n",
    "    gs_clf = GridSearchCV(clf_pipe, param_grid=params,cv=5,n_jobs=3,verbose=2)\n",
    "    clf = gs_clf.fit(X_train, y_train)\n",
    "    score = clf.score(X_test, y_test)\n",
    "    result.append([name,classifier,params,score,clf.best_params_, clf.best_score_, clf.cv_results_])\n",
    "    "
   ]
  },
  {
   "cell_type": "code",
   "execution_count": 415,
   "metadata": {},
   "outputs": [
    {
     "data": {
      "text/plain": [
       "pos.PROPN       0.107797\n",
       "pos.PUNCT       0.124746\n",
       "pos.PRON       0.0413559\n",
       "pos.AUX        0.0461017\n",
       "pos.PART       0.0244068\n",
       "pos.ADV        0.0467797\n",
       "pos.VERB        0.109153\n",
       "pos.ADP         0.113898\n",
       "pos.NUM        0.0169492\n",
       "pos.DET        0.0983051\n",
       "pos.NOUN        0.155254\n",
       "pos.ADJ        0.0691525\n",
       "pos.SPACE      0.0122034\n",
       "pos.CCONJ      0.0230508\n",
       "pos.SCONJ     0.00881356\n",
       "pos.INTJ     0.000677966\n",
       "pos.SYM       0.00135593\n",
       "pos.X                  0\n",
       "Name: 8238, dtype: object"
      ]
     },
     "execution_count": 415,
     "metadata": {},
     "output_type": "execute_result"
    }
   ],
   "source": [
    "X_train.iloc[0]"
   ]
  },
  {
   "cell_type": "code",
   "execution_count": 420,
   "metadata": {},
   "outputs": [
    {
     "data": {
      "text/plain": [
       "0"
      ]
     },
     "execution_count": 420,
     "metadata": {},
     "output_type": "execute_result"
    }
   ],
   "source": [
    "y_train[0]"
   ]
  },
  {
   "cell_type": "code",
   "execution_count": 419,
   "metadata": {},
   "outputs": [
    {
     "data": {
      "text/plain": [
       "array([0])"
      ]
     },
     "execution_count": 419,
     "metadata": {},
     "output_type": "execute_result"
    }
   ],
   "source": [
    "clf.best_estimator_.predict([X_train.iloc[0]])"
   ]
  },
  {
   "cell_type": "code",
   "execution_count": 429,
   "metadata": {},
   "outputs": [
    {
     "name": "stdout",
     "output_type": "stream",
     "text": [
      "Fitting 5 folds for each of 5 candidates, totalling 25 fits\n"
     ]
    },
    {
     "name": "stderr",
     "output_type": "stream",
     "text": [
      "[Parallel(n_jobs=3)]: Using backend LokyBackend with 3 concurrent workers.\n",
      "[Parallel(n_jobs=3)]: Done  25 out of  25 | elapsed:    7.4s finished\n",
      "[Parallel(n_jobs=3)]: Using backend LokyBackend with 3 concurrent workers.\n"
     ]
    },
    {
     "name": "stdout",
     "output_type": "stream",
     "text": [
      "Fitting 5 folds for each of 5 candidates, totalling 25 fits\n"
     ]
    },
    {
     "name": "stderr",
     "output_type": "stream",
     "text": [
      "[Parallel(n_jobs=3)]: Done  25 out of  25 | elapsed:   11.1s finished\n"
     ]
    },
    {
     "name": "stdout",
     "output_type": "stream",
     "text": [
      "Fitting 5 folds for each of 5 candidates, totalling 25 fits\n"
     ]
    },
    {
     "name": "stderr",
     "output_type": "stream",
     "text": [
      "[Parallel(n_jobs=3)]: Using backend LokyBackend with 3 concurrent workers.\n",
      "[Parallel(n_jobs=3)]: Done  25 out of  25 | elapsed:    5.9s finished\n"
     ]
    },
    {
     "name": "stdout",
     "output_type": "stream",
     "text": [
      "Fitting 5 folds for each of 5 candidates, totalling 25 fits\n"
     ]
    },
    {
     "name": "stderr",
     "output_type": "stream",
     "text": [
      "[Parallel(n_jobs=3)]: Using backend LokyBackend with 3 concurrent workers.\n",
      "[Parallel(n_jobs=3)]: Done  25 out of  25 | elapsed:   41.6s finished\n"
     ]
    },
    {
     "name": "stdout",
     "output_type": "stream",
     "text": [
      "Fitting 5 folds for each of 5 candidates, totalling 25 fits\n"
     ]
    },
    {
     "name": "stderr",
     "output_type": "stream",
     "text": [
      "[Parallel(n_jobs=3)]: Using backend LokyBackend with 3 concurrent workers.\n",
      "[Parallel(n_jobs=3)]: Done  25 out of  25 | elapsed:  1.3min finished\n"
     ]
    },
    {
     "name": "stdout",
     "output_type": "stream",
     "text": [
      "[['Naive Bayes', MultinomialNB(alpha=1.0, class_prior=None, fit_prior=True), {'clf__alpha': (10, 1, 0.1, 0.01, 0.001)}, 0.6980496026968457, {'clf__alpha': 0.01}, 0.707009124609943, {'mean_fit_time': array([0.04372568, 0.03777733, 0.0377852 , 0.04636755, 0.04223046]), 'std_fit_time': array([0.00758152, 0.00254188, 0.00222669, 0.01006199, 0.00502326]), 'mean_score_time': array([0.01125059, 0.00713291, 0.00792756, 0.00810423, 0.00827932]), 'std_score_time': array([0.00429856, 0.00084296, 0.00148435, 0.00051543, 0.00126592]), 'param_clf__alpha': masked_array(data=[10, 1, 0.1, 0.01, 0.001],\n",
      "             mask=[False, False, False, False, False],\n",
      "       fill_value='?',\n",
      "            dtype=object), 'params': [{'clf__alpha': 10}, {'clf__alpha': 1}, {'clf__alpha': 0.1}, {'clf__alpha': 0.01}, {'clf__alpha': 0.001}], 'split0_test_score': array([0.69807345, 0.70710415, 0.7089103 , 0.70951234, 0.70951234]), 'split1_test_score': array([0.68573149, 0.69295605, 0.69476219, 0.69506321, 0.69506321]), 'split2_test_score': array([0.69837447, 0.70469597, 0.70800722, 0.7089103 , 0.7089103 ]), 'split3_test_score': array([0.70249925, 0.70761819, 0.70852153, 0.70852153, 0.70852153]), 'split4_test_score': array([0.7079193 , 0.71093044, 0.71303824, 0.71303824, 0.71303824]), 'mean_test_score': array([0.69851959, 0.70466096, 0.7066479 , 0.70700912, 0.70700912]), 'std_test_score': array([0.00732049, 0.00618105, 0.00620618, 0.00618422, 0.00618422]), 'rank_test_score': array([5, 4, 3, 1, 1], dtype=int32)}], ['Linear SVM', LinearSVC(C=1.0, class_weight=None, dual=True, fit_intercept=True,\n",
      "          intercept_scaling=1, loss='squared_hinge', max_iter=1000,\n",
      "          multi_class='ovr', penalty='l2', random_state=None, tol=0.0001,\n",
      "          verbose=0), {'clf__C': array([1.00000000e-05, 3.16227766e-04, 1.00000000e-02, 3.16227766e-01,\n",
      "       1.00000000e+01])}, 0.7693233806886588, {'clf__C': 10.0}, 0.7672213620256478, {'mean_fit_time': array([0.08083901, 0.1071949 , 0.11393967, 0.16437879, 2.78780122]), 'std_fit_time': array([0.00255891, 0.04012346, 0.01310335, 0.02468533, 0.89277157]), 'mean_score_time': array([0.0079349 , 0.00969629, 0.00929489, 0.01056595, 0.01085906]), 'std_score_time': array([0.00185397, 0.00511612, 0.00211469, 0.0004039 , 0.00227964]), 'param_clf__C': masked_array(data=[1e-05, 0.00031622776601683794, 0.01,\n",
      "                   0.31622776601683794, 10.0],\n",
      "             mask=[False, False, False, False, False],\n",
      "       fill_value='?',\n",
      "            dtype=object), 'params': [{'clf__C': 1e-05}, {'clf__C': 0.00031622776601683794}, {'clf__C': 0.01}, {'clf__C': 0.31622776601683794}, {'clf__C': 10.0}], 'split0_test_score': array([0.52980132, 0.59030704, 0.68633353, 0.74864539, 0.7615894 ]), 'split1_test_score': array([0.53251054, 0.59512342, 0.6884407 , 0.74051776, 0.76399759]), 'split2_test_score': array([0.52889825, 0.58488862, 0.67760385, 0.74924744, 0.76369657]), 'split3_test_score': array([0.53839205, 0.60433604, 0.69948811, 0.75579645, 0.77838001]), 'split4_test_score': array([0.5308642 , 0.59620596, 0.69376694, 0.75669979, 0.76844324]), 'mean_test_score': array([0.53209327, 0.59417222, 0.68912663, 0.75018137, 0.76722136]), 'std_test_score': array([0.00337107, 0.00647254, 0.00734764, 0.00584184, 0.00600906]), 'rank_test_score': array([5, 4, 3, 2, 1], dtype=int32)}], ['Logistic Regression', LogisticRegression(C=1.0, class_weight=None, dual=False, fit_intercept=True,\n",
      "                   intercept_scaling=1, l1_ratio=None, max_iter=100,\n",
      "                   multi_class='auto', n_jobs=None, penalty='l2',\n",
      "                   random_state=None, solver='lbfgs', tol=0.0001, verbose=0,\n",
      "                   warm_start=False), {'clf__C': array([1.00000000e-05, 3.16227766e-04, 1.00000000e-02, 3.16227766e-01,\n",
      "       1.00000000e+01])}, 0.7664339032025043, {'clf__C': 10.0}, 0.7608387759574967, {'mean_fit_time': array([0.06358304, 0.06949677, 0.06699944, 0.11429353, 0.215696  ]), 'std_fit_time': array([0.00563445, 0.00445146, 0.00319633, 0.01374828, 0.02242721]), 'mean_score_time': array([0.00915837, 0.00885549, 0.00767756, 0.00856638, 0.01014047]), 'std_score_time': array([0.0020673 , 0.00163537, 0.00035087, 0.00155469, 0.00194998]), 'param_clf__C': masked_array(data=[1e-05, 0.00031622776601683794, 0.01,\n",
      "                   0.31622776601683794, 10.0],\n",
      "             mask=[False, False, False, False, False],\n",
      "       fill_value='?',\n",
      "            dtype=object), 'params': [{'clf__C': 1e-05}, {'clf__C': 0.00031622776601683794}, {'clf__C': 0.01}, {'clf__C': 0.31622776601683794}, {'clf__C': 10.0}], 'split0_test_score': array([0.50030102, 0.60325105, 0.63937387, 0.70921132, 0.75827815]), 'split1_test_score': array([0.50060205, 0.61348585, 0.63997592, 0.70921132, 0.756472  ]), 'split2_test_score': array([0.50030102, 0.59151114, 0.61830223, 0.70800722, 0.75737508]), 'split3_test_score': array([0.50015056, 0.60915387, 0.64317977, 0.72357724, 0.76904547]), 'split4_test_score': array([0.50015056, 0.60704607, 0.64378199, 0.72628726, 0.76302319]), 'mean_test_score': array([0.50030104, 0.6048896 , 0.63692276, 0.71525887, 0.76083878]), 'std_test_score': array([0.00016486, 0.00746188, 0.0094684 , 0.00795679, 0.00468496]), 'rank_test_score': array([5, 4, 3, 2, 1], dtype=int32)}], ['Random Forest', RandomForestClassifier(bootstrap=True, ccp_alpha=0.0, class_weight=None,\n",
      "                       criterion='gini', max_depth=None, max_features='auto',\n",
      "                       max_leaf_nodes=None, max_samples=None,\n",
      "                       min_impurity_decrease=0.0, min_impurity_split=None,\n",
      "                       min_samples_leaf=1, min_samples_split=2,\n",
      "                       min_weight_fraction_leaf=0.0, n_estimators=100,\n",
      "                       n_jobs=None, oob_score=False, random_state=None,\n",
      "                       verbose=0, warm_start=False), {'clf__max_depth': (1, 2, 5, 10, 50)}, 0.8073681675896942, {'clf__max_depth': 50}, 0.8047331659349105, {'mean_fit_time': array([1.0200315 , 1.72166648, 3.5542017 , 6.63434129, 8.94354267]), 'std_fit_time': array([0.03824348, 0.03027853, 0.05105065, 0.18635035, 0.73767716]), 'mean_score_time': array([0.04009056, 0.04226665, 0.0435163 , 0.0626802 , 0.07944221]), 'std_score_time': array([0.00113049, 0.00732773, 0.00394817, 0.00194191, 0.01437723]), 'param_clf__max_depth': masked_array(data=[1, 2, 5, 10, 50],\n",
      "             mask=[False, False, False, False, False],\n",
      "       fill_value='?',\n",
      "            dtype=object), 'params': [{'clf__max_depth': 1}, {'clf__max_depth': 2}, {'clf__max_depth': 5}, {'clf__max_depth': 10}, {'clf__max_depth': 50}], 'split0_test_score': array([0.70860927, 0.7320891 , 0.77363034, 0.78958459, 0.80373269]), 'split1_test_score': array([0.71252258, 0.73931367, 0.76490066, 0.78747742, 0.79500301]), 'split2_test_score': array([0.67790488, 0.73630343, 0.7667068 , 0.79379892, 0.80704395]), 'split3_test_score': array([0.7142427 , 0.7419452 , 0.76452876, 0.80066245, 0.8081903 ]), 'split4_test_score': array([0.69135802, 0.73381512, 0.76904547, 0.79403794, 0.80969587]), 'mean_test_score': array([0.70092749, 0.7366933 , 0.76776241, 0.79311226, 0.80473317]), 'std_test_score': array([0.01408805, 0.00358004, 0.00334183, 0.00452835, 0.00524589]), 'rank_test_score': array([5, 4, 3, 2, 1], dtype=int32)}], ['Multilayer Perceptron', MLPClassifier(activation='relu', alpha=0.0001, batch_size='auto', beta_1=0.9,\n",
      "              beta_2=0.999, early_stopping=False, epsilon=1e-08,\n",
      "              hidden_layer_sizes=(100,), learning_rate='constant',\n",
      "              learning_rate_init=0.001, max_fun=15000, max_iter=200,\n",
      "              momentum=0.9, n_iter_no_change=10, nesterovs_momentum=True,\n",
      "              power_t=0.5, random_state=None, shuffle=True, solver='adam',\n",
      "              tol=0.0001, validation_fraction=0.1, verbose=False,\n",
      "              warm_start=False), {'clf__alpha': (10, 1, 0.1, 0.01, 0.001)}, 0.7876234047676378, {'clf__alpha': 0.01}, 0.7944972255261384, {'mean_fit_time': array([ 1.49803319,  2.71352239,  7.74909091, 15.54637971, 14.68599324]), 'std_fit_time': array([0.04532835, 0.29422192, 0.83799133, 0.17836328, 1.88018281]), 'mean_score_time': array([0.01794443, 0.01666512, 0.01610384, 0.01760807, 0.02550364]), 'std_score_time': array([0.00193388, 0.00081026, 0.00251646, 0.00101173, 0.00440227]), 'param_clf__alpha': masked_array(data=[10, 1, 0.1, 0.01, 0.001],\n",
      "             mask=[False, False, False, False, False],\n",
      "       fill_value='?',\n",
      "            dtype=object), 'params': [{'clf__alpha': 10}, {'clf__alpha': 1}, {'clf__alpha': 0.1}, {'clf__alpha': 0.01}, {'clf__alpha': 0.001}], 'split0_test_score': array([0.50030102, 0.69897652, 0.75797712, 0.79048766, 0.79259482]), 'split1_test_score': array([0.50030102, 0.70078266, 0.76189043, 0.78898254, 0.79199278]), 'split2_test_score': array([0.49969898, 0.68302228, 0.76881397, 0.79409994, 0.78537026]), 'split3_test_score': array([0.49984944, 0.69768142, 0.77476664, 0.80548028, 0.80066245]), 'split4_test_score': array([0.49984944, 0.70551039, 0.77265884, 0.79343571, 0.79373683]), 'mean_test_score': array([0.49999998, 0.69719465, 0.7672214 , 0.79449723, 0.79287143]), 'std_test_score': array([0.00025187, 0.00756695, 0.00637038, 0.00580345, 0.0048696 ]), 'rank_test_score': array([5, 4, 3, 1, 2], dtype=int32)}]]\n"
     ]
    },
    {
     "name": "stderr",
     "output_type": "stream",
     "text": [
      "/Library/Frameworks/Python.framework/Versions/3.7/lib/python3.7/site-packages/sklearn/neural_network/_multilayer_perceptron.py:571: ConvergenceWarning:\n",
      "\n",
      "Stochastic Optimizer: Maximum iterations (200) reached and the optimization hasn't converged yet.\n",
      "\n"
     ]
    }
   ],
   "source": [
    "from sklearn.naive_bayes import MultinomialNB\n",
    "from sklearn.svm import LinearSVC\n",
    "from sklearn.linear_model import LogisticRegression\n",
    "from sklearn.ensemble import RandomForestClassifier\n",
    "from sklearn.neural_network import MLPClassifier\n",
    "from sklearn.model_selection import GridSearchCV\n",
    "from sklearn.model_selection import train_test_split\n",
    "\n",
    "X_train, X_test, y_train, y_test = train_test_split(liwc_df[list(liwc_df.columns)[1:]], list(liwc_df['label']), test_size=0.2, random_state=42)\n",
    "\n",
    "names = [\n",
    "         \"Naive Bayes\",\n",
    "         \"Linear SVM\",\n",
    "         \"Logistic Regression\",\n",
    "         \"Random Forest\",\n",
    "         \"Multilayer Perceptron\"\n",
    "        ]\n",
    "\n",
    "classifiers = [\n",
    "    MultinomialNB(),\n",
    "    LinearSVC(),\n",
    "    LogisticRegression(),\n",
    "    RandomForestClassifier(),\n",
    "    MLPClassifier()\n",
    "]\n",
    "\n",
    "parameters = [\n",
    "              {'clf__alpha': (10, 1, 1e-1, 1e-2, 1e-3)},\n",
    "              {'clf__C': (np.logspace(-5, 1, 5))},\n",
    "              {'clf__C': (np.logspace(-5, 1, 5))},\n",
    "              {'clf__max_depth': (1, 2, 5, 10, 50)},\n",
    "              {'clf__alpha': (10, 1, 1e-1,1e-2, 1e-3)}\n",
    "             ]\n",
    "result_liwc = []\n",
    "for name, classifier, params in zip(names, classifiers, parameters):\n",
    "    clf_pipe = Pipeline([\n",
    "        #('vect', TfidfVectorizer(stop_words='english')),\n",
    "        ('clf', classifier),\n",
    "    ])\n",
    "    gs_clf = GridSearchCV(clf_pipe, param_grid=params,cv=5,n_jobs=3,verbose=2)\n",
    "    clf = gs_clf.fit(X_train, y_train)\n",
    "    score = clf.score(X_test, y_test)\n",
    "    result_liwc.append([name,classifier,params,score,clf.best_params_, clf.best_score_, clf.cv_results_])\n",
    "    \n",
    "\n",
    "print(result_liwc)"
   ]
  },
  {
   "cell_type": "code",
   "execution_count": 421,
   "metadata": {},
   "outputs": [
    {
     "name": "stdout",
     "output_type": "stream",
     "text": [
      "Fitting 5 folds for each of 5 candidates, totalling 25 fits\n"
     ]
    },
    {
     "name": "stderr",
     "output_type": "stream",
     "text": [
      "[Parallel(n_jobs=3)]: Using backend LokyBackend with 3 concurrent workers.\n",
      "[Parallel(n_jobs=3)]: Done  25 out of  25 | elapsed:   25.0s finished\n"
     ]
    }
   ],
   "source": [
    "parameters = [\n",
    "              {'clf__max_depth': (1, 2, 5, 10, 50)}\n",
    "             ]\n",
    "\n",
    "clf_pipe = Pipeline([\n",
    "        ('clf', RandomForestClassifier()),\n",
    "    ])\n",
    "gs_clf = GridSearchCV(clf_pipe, param_grid=parameters,cv=5,n_jobs=3,verbose=2)\n",
    "clf = gs_clf.fit(X_train, y_train)\n",
    "score = clf.score(X_test, y_test)\n",
    "\n"
   ]
  },
  {
   "cell_type": "code",
   "execution_count": 423,
   "metadata": {},
   "outputs": [],
   "source": [
    "model = clf.best_estimator_"
   ]
  },
  {
   "cell_type": "code",
   "execution_count": 424,
   "metadata": {},
   "outputs": [],
   "source": [
    "import pickle\n",
    "pickle_out = open(\"classifier.pkl\", mode = \"wb\")\n",
    "pickle.dump(model, pickle_out)\n",
    "pickle_out.close()"
   ]
  },
  {
   "cell_type": "code",
   "execution_count": 445,
   "metadata": {},
   "outputs": [],
   "source": [
    "pos_result = pd.DataFrame([[mod[0]]+list(mod[6].get('mean_test_score')) for mod in result], columns=['model','p1','p2','p3','p4','p5'])"
   ]
  },
  {
   "cell_type": "code",
   "execution_count": 479,
   "metadata": {},
   "outputs": [],
   "source": [
    "pos_result_flatten.to_csv('data/pos_result_flatten.csv')\n",
    "liwc_result_flatten.to_csv('data/liwc_result_flatten.csv')"
   ]
  },
  {
   "cell_type": "code",
   "execution_count": 446,
   "metadata": {},
   "outputs": [],
   "source": [
    "liwc_result = pd.DataFrame([[mod[0]]+list(mod[6].get('mean_test_score')) for mod in result_liwc], columns=['model','p1','p2','p3','p4','p5'])"
   ]
  },
  {
   "cell_type": "code",
   "execution_count": 478,
   "metadata": {},
   "outputs": [
    {
     "name": "stderr",
     "output_type": "stream",
     "text": [
      "/Library/Frameworks/Python.framework/Versions/3.7/lib/python3.7/site-packages/ipykernel_launcher.py:4: SettingWithCopyWarning:\n",
      "\n",
      "\n",
      "A value is trying to be set on a copy of a slice from a DataFrame.\n",
      "Try using .loc[row_indexer,col_indexer] = value instead\n",
      "\n",
      "See the caveats in the documentation: http://pandas.pydata.org/pandas-docs/stable/user_guide/indexing.html#returning-a-view-versus-a-copy\n",
      "\n"
     ]
    },
    {
     "data": {
      "text/html": [
       "<div>\n",
       "<style scoped>\n",
       "    .dataframe tbody tr th:only-of-type {\n",
       "        vertical-align: middle;\n",
       "    }\n",
       "\n",
       "    .dataframe tbody tr th {\n",
       "        vertical-align: top;\n",
       "    }\n",
       "\n",
       "    .dataframe thead th {\n",
       "        text-align: right;\n",
       "    }\n",
       "</style>\n",
       "<table border=\"1\" class=\"dataframe\">\n",
       "  <thead>\n",
       "    <tr style=\"text-align: right;\">\n",
       "      <th></th>\n",
       "      <th>model</th>\n",
       "      <th>acuracy</th>\n",
       "      <th>parameter</th>\n",
       "    </tr>\n",
       "  </thead>\n",
       "  <tbody>\n",
       "    <tr>\n",
       "      <th>0</th>\n",
       "      <td>Naive Bayes</td>\n",
       "      <td>0.588030</td>\n",
       "      <td>p1</td>\n",
       "    </tr>\n",
       "    <tr>\n",
       "      <th>1</th>\n",
       "      <td>Linear SVM</td>\n",
       "      <td>0.531732</td>\n",
       "      <td>p1</td>\n",
       "    </tr>\n",
       "    <tr>\n",
       "      <th>2</th>\n",
       "      <td>Logistic Regression</td>\n",
       "      <td>0.500241</td>\n",
       "      <td>p1</td>\n",
       "    </tr>\n",
       "    <tr>\n",
       "      <th>3</th>\n",
       "      <td>Random Forest</td>\n",
       "      <td>0.647820</td>\n",
       "      <td>p1</td>\n",
       "    </tr>\n",
       "    <tr>\n",
       "      <th>4</th>\n",
       "      <td>Multilayer Perceptron</td>\n",
       "      <td>0.499759</td>\n",
       "      <td>p1</td>\n",
       "    </tr>\n",
       "    <tr>\n",
       "      <th>0</th>\n",
       "      <td>Naive Bayes</td>\n",
       "      <td>0.599531</td>\n",
       "      <td>p2</td>\n",
       "    </tr>\n",
       "    <tr>\n",
       "      <th>1</th>\n",
       "      <td>Linear SVM</td>\n",
       "      <td>0.601337</td>\n",
       "      <td>p2</td>\n",
       "    </tr>\n",
       "    <tr>\n",
       "      <th>2</th>\n",
       "      <td>Logistic Regression</td>\n",
       "      <td>0.548832</td>\n",
       "      <td>p2</td>\n",
       "    </tr>\n",
       "    <tr>\n",
       "      <th>3</th>\n",
       "      <td>Random Forest</td>\n",
       "      <td>0.682502</td>\n",
       "      <td>p2</td>\n",
       "    </tr>\n",
       "    <tr>\n",
       "      <th>4</th>\n",
       "      <td>Multilayer Perceptron</td>\n",
       "      <td>0.591042</td>\n",
       "      <td>p2</td>\n",
       "    </tr>\n",
       "    <tr>\n",
       "      <th>0</th>\n",
       "      <td>Naive Bayes</td>\n",
       "      <td>0.602903</td>\n",
       "      <td>p3</td>\n",
       "    </tr>\n",
       "    <tr>\n",
       "      <th>1</th>\n",
       "      <td>Linear SVM</td>\n",
       "      <td>0.644148</td>\n",
       "      <td>p3</td>\n",
       "    </tr>\n",
       "    <tr>\n",
       "      <th>2</th>\n",
       "      <td>Logistic Regression</td>\n",
       "      <td>0.622170</td>\n",
       "      <td>p3</td>\n",
       "    </tr>\n",
       "    <tr>\n",
       "      <th>3</th>\n",
       "      <td>Random Forest</td>\n",
       "      <td>0.746026</td>\n",
       "      <td>p3</td>\n",
       "    </tr>\n",
       "    <tr>\n",
       "      <th>4</th>\n",
       "      <td>Multilayer Perceptron</td>\n",
       "      <td>0.709418</td>\n",
       "      <td>p3</td>\n",
       "    </tr>\n",
       "    <tr>\n",
       "      <th>0</th>\n",
       "      <td>Naive Bayes</td>\n",
       "      <td>0.603385</td>\n",
       "      <td>p4</td>\n",
       "    </tr>\n",
       "    <tr>\n",
       "      <th>1</th>\n",
       "      <td>Linear SVM</td>\n",
       "      <td>0.684670</td>\n",
       "      <td>p4</td>\n",
       "    </tr>\n",
       "    <tr>\n",
       "      <th>2</th>\n",
       "      <td>Logistic Regression</td>\n",
       "      <td>0.665643</td>\n",
       "      <td>p4</td>\n",
       "    </tr>\n",
       "    <tr>\n",
       "      <th>3</th>\n",
       "      <td>Random Forest</td>\n",
       "      <td>0.782695</td>\n",
       "      <td>p4</td>\n",
       "    </tr>\n",
       "    <tr>\n",
       "      <th>4</th>\n",
       "      <td>Multilayer Perceptron</td>\n",
       "      <td>0.749157</td>\n",
       "      <td>p4</td>\n",
       "    </tr>\n",
       "    <tr>\n",
       "      <th>0</th>\n",
       "      <td>Naive Bayes</td>\n",
       "      <td>0.603445</td>\n",
       "      <td>p5</td>\n",
       "    </tr>\n",
       "    <tr>\n",
       "      <th>1</th>\n",
       "      <td>Linear SVM</td>\n",
       "      <td>0.693401</td>\n",
       "      <td>p5</td>\n",
       "    </tr>\n",
       "    <tr>\n",
       "      <th>2</th>\n",
       "      <td>Logistic Regression</td>\n",
       "      <td>0.690270</td>\n",
       "      <td>p5</td>\n",
       "    </tr>\n",
       "    <tr>\n",
       "      <th>3</th>\n",
       "      <td>Random Forest</td>\n",
       "      <td>0.805155</td>\n",
       "      <td>p5</td>\n",
       "    </tr>\n",
       "    <tr>\n",
       "      <th>4</th>\n",
       "      <td>Multilayer Perceptron</td>\n",
       "      <td>0.753793</td>\n",
       "      <td>p5</td>\n",
       "    </tr>\n",
       "  </tbody>\n",
       "</table>\n",
       "</div>"
      ],
      "text/plain": [
       "                   model   acuracy parameter\n",
       "0            Naive Bayes  0.588030        p1\n",
       "1             Linear SVM  0.531732        p1\n",
       "2    Logistic Regression  0.500241        p1\n",
       "3          Random Forest  0.647820        p1\n",
       "4  Multilayer Perceptron  0.499759        p1\n",
       "0            Naive Bayes  0.599531        p2\n",
       "1             Linear SVM  0.601337        p2\n",
       "2    Logistic Regression  0.548832        p2\n",
       "3          Random Forest  0.682502        p2\n",
       "4  Multilayer Perceptron  0.591042        p2\n",
       "0            Naive Bayes  0.602903        p3\n",
       "1             Linear SVM  0.644148        p3\n",
       "2    Logistic Regression  0.622170        p3\n",
       "3          Random Forest  0.746026        p3\n",
       "4  Multilayer Perceptron  0.709418        p3\n",
       "0            Naive Bayes  0.603385        p4\n",
       "1             Linear SVM  0.684670        p4\n",
       "2    Logistic Regression  0.665643        p4\n",
       "3          Random Forest  0.782695        p4\n",
       "4  Multilayer Perceptron  0.749157        p4\n",
       "0            Naive Bayes  0.603445        p5\n",
       "1             Linear SVM  0.693401        p5\n",
       "2    Logistic Regression  0.690270        p5\n",
       "3          Random Forest  0.805155        p5\n",
       "4  Multilayer Perceptron  0.753793        p5"
      ]
     },
     "execution_count": 478,
     "metadata": {},
     "output_type": "execute_result"
    }
   ],
   "source": [
    "pos_result_flatten = pd.DataFrame()\n",
    "for i in range(1,6):\n",
    "    p1 = pos_result[['model','p'+str(i)]]\n",
    "    p1['parameter']=['p'+str(i)]*len(pos_result)\n",
    "    p1 = p1.rename(columns={'p'+str(i): 'acuracy'})\n",
    "    if i == 1:\n",
    "        pos_result_flatten = p1\n",
    "    else:\n",
    "        pos_result_flatten = pd.concat([pos_result_flatten,p1], axis=0)\n",
    "pos_result_flatten"
   ]
  },
  {
   "cell_type": "code",
   "execution_count": 474,
   "metadata": {},
   "outputs": [
    {
     "name": "stderr",
     "output_type": "stream",
     "text": [
      "/Library/Frameworks/Python.framework/Versions/3.7/lib/python3.7/site-packages/ipykernel_launcher.py:4: SettingWithCopyWarning:\n",
      "\n",
      "\n",
      "A value is trying to be set on a copy of a slice from a DataFrame.\n",
      "Try using .loc[row_indexer,col_indexer] = value instead\n",
      "\n",
      "See the caveats in the documentation: http://pandas.pydata.org/pandas-docs/stable/user_guide/indexing.html#returning-a-view-versus-a-copy\n",
      "\n"
     ]
    }
   ],
   "source": [
    "liwc_result_flatten = pd.DataFrame()\n",
    "for i in range(1,6):\n",
    "    p1 = liwc_result[['model','p'+str(i)]]\n",
    "    p1['parameter']=['p'+str(i)]*len(liwc_result)\n",
    "    p1 = p1.rename(columns={'p'+str(i): 'acuracy'})\n",
    "    if i == 1:\n",
    "        liwc_result_flatten = p1\n",
    "    else:\n",
    "        liwc_result_flatten = pd.concat([liwc_result_flatten,p1], axis=0)\n"
   ]
  },
  {
   "cell_type": "code",
   "execution_count": 477,
   "metadata": {},
   "outputs": [],
   "source": [
    "liwc_result_flatten.to_csv('data/liwc_result.csv')# = liwc_result[['model','p'+str(i)]]"
   ]
  },
  {
   "cell_type": "code",
   "execution_count": 456,
   "metadata": {},
   "outputs": [
    {
     "name": "stderr",
     "output_type": "stream",
     "text": [
      "/Library/Frameworks/Python.framework/Versions/3.7/lib/python3.7/site-packages/ipykernel_launcher.py:1: FutureWarning:\n",
      "\n",
      "Sorting because non-concatenation axis is not aligned. A future version\n",
      "of pandas will change to not sort by default.\n",
      "\n",
      "To accept the future behavior, pass 'sort=False'.\n",
      "\n",
      "To retain the current behavior and silence the warning, pass 'sort=True'.\n",
      "\n",
      "\n"
     ]
    },
    {
     "data": {
      "text/html": [
       "<div>\n",
       "<style scoped>\n",
       "    .dataframe tbody tr th:only-of-type {\n",
       "        vertical-align: middle;\n",
       "    }\n",
       "\n",
       "    .dataframe tbody tr th {\n",
       "        vertical-align: top;\n",
       "    }\n",
       "\n",
       "    .dataframe thead th {\n",
       "        text-align: right;\n",
       "    }\n",
       "</style>\n",
       "<table border=\"1\" class=\"dataframe\">\n",
       "  <thead>\n",
       "    <tr style=\"text-align: right;\">\n",
       "      <th></th>\n",
       "      <th>model</th>\n",
       "      <th>p1</th>\n",
       "      <th>p2</th>\n",
       "    </tr>\n",
       "  </thead>\n",
       "  <tbody>\n",
       "    <tr>\n",
       "      <th>0</th>\n",
       "      <td>Naive Bayes</td>\n",
       "      <td>0.698520</td>\n",
       "      <td>NaN</td>\n",
       "    </tr>\n",
       "    <tr>\n",
       "      <th>1</th>\n",
       "      <td>Linear SVM</td>\n",
       "      <td>0.532093</td>\n",
       "      <td>NaN</td>\n",
       "    </tr>\n",
       "    <tr>\n",
       "      <th>2</th>\n",
       "      <td>Logistic Regression</td>\n",
       "      <td>0.500301</td>\n",
       "      <td>NaN</td>\n",
       "    </tr>\n",
       "    <tr>\n",
       "      <th>3</th>\n",
       "      <td>Random Forest</td>\n",
       "      <td>0.700927</td>\n",
       "      <td>NaN</td>\n",
       "    </tr>\n",
       "    <tr>\n",
       "      <th>4</th>\n",
       "      <td>Multilayer Perceptron</td>\n",
       "      <td>0.500000</td>\n",
       "      <td>NaN</td>\n",
       "    </tr>\n",
       "    <tr>\n",
       "      <th>0</th>\n",
       "      <td>Naive Bayes</td>\n",
       "      <td>NaN</td>\n",
       "      <td>0.704661</td>\n",
       "    </tr>\n",
       "    <tr>\n",
       "      <th>1</th>\n",
       "      <td>Linear SVM</td>\n",
       "      <td>NaN</td>\n",
       "      <td>0.594172</td>\n",
       "    </tr>\n",
       "    <tr>\n",
       "      <th>2</th>\n",
       "      <td>Logistic Regression</td>\n",
       "      <td>NaN</td>\n",
       "      <td>0.604890</td>\n",
       "    </tr>\n",
       "    <tr>\n",
       "      <th>3</th>\n",
       "      <td>Random Forest</td>\n",
       "      <td>NaN</td>\n",
       "      <td>0.736693</td>\n",
       "    </tr>\n",
       "    <tr>\n",
       "      <th>4</th>\n",
       "      <td>Multilayer Perceptron</td>\n",
       "      <td>NaN</td>\n",
       "      <td>0.697195</td>\n",
       "    </tr>\n",
       "  </tbody>\n",
       "</table>\n",
       "</div>"
      ],
      "text/plain": [
       "                   model        p1        p2\n",
       "0            Naive Bayes  0.698520       NaN\n",
       "1             Linear SVM  0.532093       NaN\n",
       "2    Logistic Regression  0.500301       NaN\n",
       "3          Random Forest  0.700927       NaN\n",
       "4  Multilayer Perceptron  0.500000       NaN\n",
       "0            Naive Bayes       NaN  0.704661\n",
       "1             Linear SVM       NaN  0.594172\n",
       "2    Logistic Regression       NaN  0.604890\n",
       "3          Random Forest       NaN  0.736693\n",
       "4  Multilayer Perceptron       NaN  0.697195"
      ]
     },
     "execution_count": 456,
     "metadata": {},
     "output_type": "execute_result"
    }
   ],
   "source": [
    "pd.concat([liwc_result[['model','p1']],liwc_result[['model','p2']]], axis=0)"
   ]
  },
  {
   "cell_type": "code",
   "execution_count": 480,
   "metadata": {},
   "outputs": [
    {
     "data": {
      "text/plain": [
       "[{'clf__alpha': (10, 1, 0.1, 0.01, 0.001)},\n",
       " {'clf__C': array([1.00000000e-05, 3.16227766e-04, 1.00000000e-02, 3.16227766e-01,\n",
       "         1.00000000e+01])},\n",
       " {'clf__C': array([1.00000000e-05, 3.16227766e-04, 1.00000000e-02, 3.16227766e-01,\n",
       "         1.00000000e+01])},\n",
       " {'clf__max_depth': (1, 2, 5, 10, 50)},\n",
       " {'clf__alpha': (10, 1, 0.1, 0.01, 0.001)}]"
      ]
     },
     "execution_count": 480,
     "metadata": {},
     "output_type": "execute_result"
    }
   ],
   "source": [
    "parameters"
   ]
  },
  {
   "cell_type": "code",
   "execution_count": null,
   "metadata": {},
   "outputs": [],
   "source": [
    "fig = px.line(liwc_result, x=liwc_result.columns[1:], y=\"lifeExp\", color='country')\n",
    "fig.show()"
   ]
  },
  {
   "cell_type": "code",
   "execution_count": 332,
   "metadata": {},
   "outputs": [
    {
     "ename": "NameError",
     "evalue": "name 'TfidfVectorizer' is not defined",
     "output_type": "error",
     "traceback": [
      "\u001b[0;31m---------------------------------------------------------------------------\u001b[0m",
      "\u001b[0;31mNameError\u001b[0m                                 Traceback (most recent call last)",
      "\u001b[0;32m<ipython-input-332-d460c558482e>\u001b[0m in \u001b[0;36m<module>\u001b[0;34m\u001b[0m\n\u001b[1;32m     12\u001b[0m \u001b[0mtext\u001b[0m \u001b[0;34m=\u001b[0m \u001b[0;34m[\u001b[0m\u001b[0;34m(\u001b[0m\u001b[0mrow\u001b[0m\u001b[0;34m[\u001b[0m\u001b[0;36m0\u001b[0m\u001b[0;34m]\u001b[0m\u001b[0;34m)\u001b[0m \u001b[0;32mfor\u001b[0m \u001b[0mindex\u001b[0m\u001b[0;34m,\u001b[0m \u001b[0mrow\u001b[0m \u001b[0;32min\u001b[0m \u001b[0mtrain\u001b[0m\u001b[0;34m.\u001b[0m\u001b[0miterrows\u001b[0m\u001b[0;34m(\u001b[0m\u001b[0;34m)\u001b[0m\u001b[0;34m]\u001b[0m\u001b[0;34m\u001b[0m\u001b[0;34m\u001b[0m\u001b[0m\n\u001b[1;32m     13\u001b[0m \u001b[0;34m\u001b[0m\u001b[0m\n\u001b[0;32m---> 14\u001b[0;31m \u001b[0mnewsVectorizer\u001b[0m \u001b[0;34m=\u001b[0m \u001b[0mTfidfVectorizer\u001b[0m\u001b[0;34m(\u001b[0m\u001b[0mmax_features\u001b[0m\u001b[0;34m=\u001b[0m\u001b[0;36m5000\u001b[0m\u001b[0;34m,\u001b[0m \u001b[0mngram_range\u001b[0m\u001b[0;34m=\u001b[0m\u001b[0;34m(\u001b[0m\u001b[0;36m1\u001b[0m\u001b[0;34m,\u001b[0m\u001b[0;36m4\u001b[0m\u001b[0;34m)\u001b[0m\u001b[0;34m,\u001b[0m \u001b[0mstop_words\u001b[0m\u001b[0;34m=\u001b[0m\u001b[0;34m'english'\u001b[0m\u001b[0;34m,\u001b[0m \u001b[0msublinear_tf\u001b[0m\u001b[0;34m=\u001b[0m\u001b[0;32mTrue\u001b[0m\u001b[0;34m)\u001b[0m\u001b[0;34m\u001b[0m\u001b[0;34m\u001b[0m\u001b[0m\n\u001b[0m\u001b[1;32m     15\u001b[0m \u001b[0mnewsVectorizer\u001b[0m \u001b[0;34m=\u001b[0m \u001b[0mnewsVectorizer\u001b[0m\u001b[0;34m.\u001b[0m\u001b[0mfit\u001b[0m\u001b[0;34m(\u001b[0m \u001b[0mtext\u001b[0m \u001b[0;34m)\u001b[0m\u001b[0;34m\u001b[0m\u001b[0;34m\u001b[0m\u001b[0m\n\u001b[1;32m     16\u001b[0m \u001b[0;34m\u001b[0m\u001b[0m\n",
      "\u001b[0;31mNameError\u001b[0m: name 'TfidfVectorizer' is not defined"
     ]
    }
   ],
   "source": [
    "from sklearn.pipeline import Pipeline\n",
    "from sklearn.base import BaseEstimator, TransformerMixin\n",
    "from sklearn.model_selection import GridSearchCV\n",
    "from sklearn.linear_model import LinearRegression, Ridge, RidgeCV\n",
    "from sklearn.feature_extraction.text import CountVectorizer\n",
    "from spacy.lang.en.stop_words import STOP_WORDS\n",
    "import string\n",
    "\n",
    "punctuations = string.punctuation\n",
    "\n",
    "# comment this line if sampling\n",
    "text = [(row[0]) for index, row in train.iterrows()]\n",
    "\n",
    "newsVectorizer = TfidfVectorizer(max_features=5000, ngram_range=(1,4), stop_words='english', sublinear_tf=True)\n",
    "newsVectorizer = newsVectorizer.fit( text )\n",
    "\n",
    "class DummyEstimator(BaseEstimator):\n",
    "    def fit(self): pass\n",
    "    def score(self): pass\n",
    "        \n",
    "        \n",
    "news_pipeline = Pipeline([('tfidf', newsVectorizer),\n",
    "                        ('lr', Ridge())])\n",
    "\n",
    "parameters = [{'tfidf__max_features':[5500, 6000],\n",
    "                      'lr':[ Ridge()],\n",
    "                      'lr__alpha': [1,100,300]}]\n",
    "\n",
    "names = [\n",
    "         \"Naive Bayes\",\n",
    "         \"Linear SVM\",\n",
    "         \"Logistic Regression\",\n",
    "         \"Random Forest\",\n",
    "         \"Multilayer Perceptron\"\n",
    "        ]\n",
    "\n",
    "classifiers = [\n",
    "    MultinomialNB(),\n",
    "    LinearSVC(),\n",
    "    LogisticRegression(),\n",
    "    RandomForestClassifier(),\n",
    "    MLPClassifier()\n",
    "]\n",
    "\n",
    "parameters = [\n",
    "              {'clf__alpha': (10, 1, 1e-1, 1e-2, 1e-3)},\n",
    "              {'clf__C': (np.logspace(-5, 1, 5))},\n",
    "              {'clf__C': (np.logspace(-5, 1, 5))},\n",
    "              {'clf__max_depth': (1, 2, 5, 10, 50)},\n",
    "              {'clf__alpha': (10, 1, 1e-1,1e-2, 1e-3)}\n",
    "             ]\n",
    "result_liwc = []\n",
    "for name, classifier, params in zip(names, classifiers, parameters):\n",
    "    clf_pipe = Pipeline([\n",
    "        #('vect', TfidfVectorizer(stop_words='english')),\n",
    "        ('clf', classifier),\n",
    "    ])\n",
    "    gs_clf = GridSearchCV(clf_pipe, param_grid=params,cv=5,n_jobs=3,verbose=2)\n",
    "    clf = gs_clf.fit(X_train, y_train)\n",
    "    score = clf.score(X_test, y_test)\n",
    "    result_liwc.append([name,classifier,params,score,clf.best_params_, clf.best_score_, clf.cv_results_])\n",
    "    \n",
    "\n",
    "print(result_liwc)"
   ]
  },
  {
   "cell_type": "code",
   "execution_count": 375,
   "metadata": {},
   "outputs": [
    {
     "data": {
      "text/plain": [
       "[{'clf__alpha': 0.01},\n",
       " {'clf__C': 10.0},\n",
       " {'clf__C': 10.0},\n",
       " {'clf__max_depth': 50},\n",
       " {'clf__alpha': 0.001}]"
      ]
     },
     "execution_count": 375,
     "metadata": {},
     "output_type": "execute_result"
    }
   ],
   "source": [
    "[mod[4] for mod in result_liwc]"
   ]
  },
  {
   "cell_type": "code",
   "execution_count": 328,
   "metadata": {},
   "outputs": [
    {
     "data": {
      "text/plain": [
       "[['Naive Bayes',\n",
       "  MultinomialNB(alpha=1.0, class_prior=None, fit_prior=True),\n",
       "  {'clf__alpha': (0.01, 0.001)},\n",
       "  0.6980496026968457,\n",
       "  {'mean_fit_time': array([0.05316911, 0.04474506]),\n",
       "   'std_fit_time': array([0.00768335, 0.00482844]),\n",
       "   'mean_score_time': array([0.01058469, 0.01033244]),\n",
       "   'std_score_time': array([0.00137249, 0.00171008]),\n",
       "   'param_clf__alpha': masked_array(data=[0.01, 0.001],\n",
       "                mask=[False, False],\n",
       "          fill_value='?',\n",
       "               dtype=object),\n",
       "   'params': [{'clf__alpha': 0.01}, {'clf__alpha': 0.001}],\n",
       "   'split0_test_score': array([0.70951234, 0.70951234]),\n",
       "   'split1_test_score': array([0.69506321, 0.69506321]),\n",
       "   'split2_test_score': array([0.7089103, 0.7089103]),\n",
       "   'split3_test_score': array([0.70852153, 0.70852153]),\n",
       "   'split4_test_score': array([0.71303824, 0.71303824]),\n",
       "   'mean_test_score': array([0.70700912, 0.70700912]),\n",
       "   'std_test_score': array([0.00618422, 0.00618422]),\n",
       "   'rank_test_score': array([1, 1], dtype=int32)}],\n",
       " ['Linear SVM',\n",
       "  LinearSVC(C=1.0, class_weight=None, dual=True, fit_intercept=True,\n",
       "            intercept_scaling=1, loss='squared_hinge', max_iter=1000,\n",
       "            multi_class='ovr', penalty='l2', random_state=None, tol=0.0001,\n",
       "            verbose=0),\n",
       "  {'clf__C': array([1.00000000e-05, 3.16227766e-04, 1.00000000e-02, 3.16227766e-01,\n",
       "          1.00000000e+01])},\n",
       "  0.7693233806886588,\n",
       "  {'mean_fit_time': array([0.10270166, 0.09102221, 0.10729399, 0.15068378, 2.53182526]),\n",
       "   'std_fit_time': array([0.01654969, 0.00121809, 0.00312407, 0.0092093 , 0.62285922]),\n",
       "   'mean_score_time': array([0.00873036, 0.00771503, 0.00752139, 0.01043944, 0.01027803]),\n",
       "   'std_score_time': array([0.00147393, 0.00059857, 0.00025752, 0.00082833, 0.00264159]),\n",
       "   'param_clf__C': masked_array(data=[1e-05, 0.00031622776601683794, 0.01,\n",
       "                      0.31622776601683794, 10.0],\n",
       "                mask=[False, False, False, False, False],\n",
       "          fill_value='?',\n",
       "               dtype=object),\n",
       "   'params': [{'clf__C': 1e-05},\n",
       "    {'clf__C': 0.00031622776601683794},\n",
       "    {'clf__C': 0.01},\n",
       "    {'clf__C': 0.31622776601683794},\n",
       "    {'clf__C': 10.0}],\n",
       "   'split0_test_score': array([0.52980132, 0.59030704, 0.68633353, 0.74864539, 0.7615894 ]),\n",
       "   'split1_test_score': array([0.53251054, 0.59512342, 0.6884407 , 0.74051776, 0.76399759]),\n",
       "   'split2_test_score': array([0.52889825, 0.58488862, 0.67760385, 0.74924744, 0.76369657]),\n",
       "   'split3_test_score': array([0.53839205, 0.60433604, 0.69948811, 0.75579645, 0.77838001]),\n",
       "   'split4_test_score': array([0.5308642 , 0.59620596, 0.69376694, 0.75669979, 0.76844324]),\n",
       "   'mean_test_score': array([0.53209327, 0.59417222, 0.68912663, 0.75018137, 0.76722136]),\n",
       "   'std_test_score': array([0.00337107, 0.00647254, 0.00734764, 0.00584184, 0.00600906]),\n",
       "   'rank_test_score': array([5, 4, 3, 2, 1], dtype=int32)}],\n",
       " ['Logistic Regression',\n",
       "  LogisticRegression(C=1.0, class_weight=None, dual=False, fit_intercept=True,\n",
       "                     intercept_scaling=1, l1_ratio=None, max_iter=100,\n",
       "                     multi_class='auto', n_jobs=None, penalty='l2',\n",
       "                     random_state=None, solver='lbfgs', tol=0.0001, verbose=0,\n",
       "                     warm_start=False),\n",
       "  {'clf__C': array([1.00000000e-05, 3.16227766e-04, 1.00000000e-02, 3.16227766e-01,\n",
       "          1.00000000e+01])},\n",
       "  0.7664339032025043,\n",
       "  {'mean_fit_time': array([0.06681461, 0.06967793, 0.07299175, 0.13545365, 0.22883162]),\n",
       "   'std_fit_time': array([0.00600911, 0.00268936, 0.00579791, 0.03108809, 0.02117062]),\n",
       "   'mean_score_time': array([0.00784316, 0.00807071, 0.00833697, 0.00965981, 0.00989714]),\n",
       "   'std_score_time': array([0.00037785, 0.00067398, 0.00074028, 0.00276583, 0.00134415]),\n",
       "   'param_clf__C': masked_array(data=[1e-05, 0.00031622776601683794, 0.01,\n",
       "                      0.31622776601683794, 10.0],\n",
       "                mask=[False, False, False, False, False],\n",
       "          fill_value='?',\n",
       "               dtype=object),\n",
       "   'params': [{'clf__C': 1e-05},\n",
       "    {'clf__C': 0.00031622776601683794},\n",
       "    {'clf__C': 0.01},\n",
       "    {'clf__C': 0.31622776601683794},\n",
       "    {'clf__C': 10.0}],\n",
       "   'split0_test_score': array([0.50030102, 0.60325105, 0.63937387, 0.70921132, 0.75827815]),\n",
       "   'split1_test_score': array([0.50060205, 0.61348585, 0.63997592, 0.70921132, 0.756472  ]),\n",
       "   'split2_test_score': array([0.50030102, 0.59151114, 0.61830223, 0.70800722, 0.75737508]),\n",
       "   'split3_test_score': array([0.50015056, 0.60915387, 0.64317977, 0.72357724, 0.76904547]),\n",
       "   'split4_test_score': array([0.50015056, 0.60704607, 0.64378199, 0.72628726, 0.76302319]),\n",
       "   'mean_test_score': array([0.50030104, 0.6048896 , 0.63692276, 0.71525887, 0.76083878]),\n",
       "   'std_test_score': array([0.00016486, 0.00746188, 0.0094684 , 0.00795679, 0.00468496]),\n",
       "   'rank_test_score': array([5, 4, 3, 2, 1], dtype=int32)}],\n",
       " ['Random Forest',\n",
       "  RandomForestClassifier(bootstrap=True, ccp_alpha=0.0, class_weight=None,\n",
       "                         criterion='gini', max_depth=None, max_features='auto',\n",
       "                         max_leaf_nodes=None, max_samples=None,\n",
       "                         min_impurity_decrease=0.0, min_impurity_split=None,\n",
       "                         min_samples_leaf=1, min_samples_split=2,\n",
       "                         min_weight_fraction_leaf=0.0, n_estimators=100,\n",
       "                         n_jobs=None, oob_score=False, random_state=None,\n",
       "                         verbose=0, warm_start=False),\n",
       "  {'clf__max_depth': (1, 2)},\n",
       "  0.7327233325307007,\n",
       "  {'mean_fit_time': array([1.03437729, 1.65655465]),\n",
       "   'std_fit_time': array([0.03646414, 0.25198465]),\n",
       "   'mean_score_time': array([0.03914509, 0.03484755]),\n",
       "   'std_score_time': array([0.00668441, 0.00705014]),\n",
       "   'param_clf__max_depth': masked_array(data=[1, 2],\n",
       "                mask=[False, False],\n",
       "          fill_value='?',\n",
       "               dtype=object),\n",
       "   'params': [{'clf__max_depth': 1}, {'clf__max_depth': 2}],\n",
       "   'split0_test_score': array([0.71763998, 0.73570138]),\n",
       "   'split1_test_score': array([0.71703793, 0.74172185]),\n",
       "   'split2_test_score': array([0.70469597, 0.73359422]),\n",
       "   'split3_test_score': array([0.71966275, 0.74736525]),\n",
       "   'split4_test_score': array([0.69978922, 0.74224631]),\n",
       "   'mean_test_score': array([0.71176517, 0.7401258 ]),\n",
       "   'std_test_score': array([0.00797602, 0.00493337]),\n",
       "   'rank_test_score': array([2, 1], dtype=int32)}],\n",
       " ['Multilayer Perceptron',\n",
       "  MLPClassifier(activation='relu', alpha=0.0001, batch_size='auto', beta_1=0.9,\n",
       "                beta_2=0.999, early_stopping=False, epsilon=1e-08,\n",
       "                hidden_layer_sizes=(100,), learning_rate='constant',\n",
       "                learning_rate_init=0.001, max_fun=15000, max_iter=200,\n",
       "                momentum=0.9, n_iter_no_change=10, nesterovs_momentum=True,\n",
       "                power_t=0.5, random_state=None, shuffle=True, solver='adam',\n",
       "                tol=0.0001, validation_fraction=0.1, verbose=False,\n",
       "                warm_start=False),\n",
       "  {'clf__alpha': (0.01, 0.001)},\n",
       "  0.7859378762340476,\n",
       "  {'mean_fit_time': array([16.84773006, 15.74172029]),\n",
       "   'std_fit_time': array([0.16814687, 2.41520182]),\n",
       "   'mean_score_time': array([0.02365375, 0.02734861]),\n",
       "   'std_score_time': array([0.01409357, 0.00447092]),\n",
       "   'param_clf__alpha': masked_array(data=[0.01, 0.001],\n",
       "                mask=[False, False],\n",
       "          fill_value='?',\n",
       "               dtype=object),\n",
       "   'params': [{'clf__alpha': 0.01}, {'clf__alpha': 0.001}],\n",
       "   'split0_test_score': array([0.7871764 , 0.78838049]),\n",
       "   'split1_test_score': array([0.78898254, 0.78807947]),\n",
       "   'split2_test_score': array([0.78898254, 0.7871764 ]),\n",
       "   'split3_test_score': array([0.80216802, 0.79915688]),\n",
       "   'split4_test_score': array([0.79223126, 0.79132791]),\n",
       "   'mean_test_score': array([0.79190815, 0.79082423]),\n",
       "   'std_test_score': array([0.00538288, 0.00439315]),\n",
       "   'rank_test_score': array([1, 2], dtype=int32)}]]"
      ]
     },
     "execution_count": 328,
     "metadata": {},
     "output_type": "execute_result"
    }
   ],
   "source": [
    "[for model in result_liwc]"
   ]
  }
 ],
 "metadata": {
  "kernelspec": {
   "display_name": "Python 3",
   "language": "python",
   "name": "python3"
  },
  "language_info": {
   "codemirror_mode": {
    "name": "ipython",
    "version": 3
   },
   "file_extension": ".py",
   "mimetype": "text/x-python",
   "name": "python",
   "nbconvert_exporter": "python",
   "pygments_lexer": "ipython3",
   "version": "3.7.2"
  }
 },
 "nbformat": 4,
 "nbformat_minor": 2
}

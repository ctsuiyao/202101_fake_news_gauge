{
 "cells": [
  {
   "cell_type": "code",
   "execution_count": 7,
   "metadata": {},
   "outputs": [],
   "source": [
    "import pandas as pd\n",
    "import numpy as np\n",
    "import re\n",
    "import json\n",
    "import collections\n",
    "from heapq import nlargest\n",
    "import liwc\n",
    "import plotly.express as px\n",
    "\n",
    "from sklearn.feature_extraction.text import CountVectorizer\n",
    "\n",
    "import spacy\n",
    "nlp = spacy.load(\"en_core_web_sm\")"
   ]
  },
  {
   "cell_type": "markdown",
   "metadata": {},
   "source": [
    "### Tag news article with POS & LIWC"
   ]
  },
  {
   "cell_type": "code",
   "execution_count": null,
   "metadata": {},
   "outputs": [],
   "source": [
    "news2 = pd.read_csv('data/kaggle_train.csv')\n",
    "news2 = news2[~news2['text'].isnull()]\n",
    "news2 = news2[[ 'title', 'author', 'text', 'label']]\n",
    "\n",
    "news2['pos'] = news2['text'].apply(lambda x: collections.Counter([ w.pos_ for w in nlp(x)]))\n",
    "\n",
    "\n",
    "def tokenize(text):\n",
    "    # you may want to use a smarter tokenizer\n",
    "    for match in re.finditer(r'\\w+', text, re.UNICODE):\n",
    "        yield match.group(0)\n",
    "def parseLIWC(x):\n",
    "    gettysburg_tokens = tokenize(x)\n",
    "    gettysburg_counts = Counter(category for token in gettysburg_tokens for category in parse(token))\n",
    "    return gettysburg_counts\n",
    "\n",
    "\n",
    "parse, category_names = liwc.load_token_parser('data/queryDictionary.dic')\n",
    "\n",
    "news2['liwc_ct'] = news2['text'].apply(parseLIWC)\n",
    "\n",
    "\n",
    "json_struct = json.loads(news2.to_json(orient=\"records\"))    \n",
    "df_flat = pd.io.json.json_normalize(json_struct) #use pd.io.json\n",
    "\n",
    "df_flat= df_flat.fillna(0)\n",
    "df_flat['word_count'] = df_flat.loc[:, df_flat.columns.str.startswith('pos.')].sum(axis=1)"
   ]
  },
  {
   "cell_type": "code",
   "execution_count": 485,
   "metadata": {},
   "outputs": [],
   "source": [
    "#df_flat3.to_csv('data/flaten_file2.csv')"
   ]
  },
  {
   "cell_type": "code",
   "execution_count": null,
   "metadata": {},
   "outputs": [],
   "source": [
    "df_flat = pd.read_csv('data/flaten_file2.csv')"
   ]
  },
  {
   "cell_type": "code",
   "execution_count": null,
   "metadata": {},
   "outputs": [],
   "source": [
    "pos = df_flat.loc[:, (df_flat.columns.str.startswith('pos.')|df_flat.columns.str.startswith('label'))]"
   ]
  },
  {
   "cell_type": "code",
   "execution_count": null,
   "metadata": {},
   "outputs": [],
   "source": [
    "pos_grouped = pos.groupby('label').sum().T"
   ]
  },
  {
   "cell_type": "code",
   "execution_count": null,
   "metadata": {},
   "outputs": [],
   "source": [
    "# 0:10387\n",
    "# 1:10374\n",
    "pos_grouped[0] = pos_grouped[0]/10387\n",
    "pos_grouped[1] = pos_grouped[1]/10374"
   ]
  },
  {
   "cell_type": "code",
   "execution_count": null,
   "metadata": {},
   "outputs": [],
   "source": [
    "pos_grouped['delta'] =pos_grouped[1] -pos_grouped[0]#.T\n",
    "pos_grouped = pos_grouped.sort_values(by='delta',ascending=False)"
   ]
  },
  {
   "cell_type": "code",
   "execution_count": null,
   "metadata": {},
   "outputs": [],
   "source": [
    "fal = pos_grouped[[0]]\n",
    "fal['label']=['False']*len(pos_grouped)\n",
    "fal['pos']=pos_grouped.index\n",
    "fal = fal.rename(columns={0: 'value'})\n",
    "tru = pos_grouped[[1]]\n",
    "tru['label']=['True']*len(pos_grouped)\n",
    "tru['pos']=pos_grouped.index\n",
    "tru = tru.rename(columns={1: 'value'})"
   ]
  },
  {
   "cell_type": "code",
   "execution_count": null,
   "metadata": {},
   "outputs": [],
   "source": [
    "fal_tru = pd.concat([fal, tru],axis=0)"
   ]
  },
  {
   "cell_type": "markdown",
   "metadata": {},
   "source": [
    "### Viz: Part of Speech"
   ]
  },
  {
   "cell_type": "code",
   "execution_count": null,
   "metadata": {},
   "outputs": [],
   "source": [
    "import altair as alt\n",
    "\n",
    "alt.Chart(fal_tru).mark_bar().encode(\n",
    "    x='label:O',\n",
    "    y='value:Q',\n",
    "    color='label:N',\n",
    "    column='pos:N'\n",
    ")"
   ]
  },
  {
   "cell_type": "markdown",
   "metadata": {},
   "source": [
    "### Viz: LIWC"
   ]
  },
  {
   "cell_type": "code",
   "execution_count": 317,
   "metadata": {},
   "outputs": [
    {
     "data": {
      "text/html": [
       "\n",
       "<div id=\"altair-viz-1cfc0e85a7c34e1880a50651c605fa16\"></div>\n",
       "<script type=\"text/javascript\">\n",
       "  (function(spec, embedOpt){\n",
       "    let outputDiv = document.currentScript.previousElementSibling;\n",
       "    if (outputDiv.id !== \"altair-viz-1cfc0e85a7c34e1880a50651c605fa16\") {\n",
       "      outputDiv = document.getElementById(\"altair-viz-1cfc0e85a7c34e1880a50651c605fa16\");\n",
       "    }\n",
       "    const paths = {\n",
       "      \"vega\": \"https://cdn.jsdelivr.net/npm//vega@5?noext\",\n",
       "      \"vega-lib\": \"https://cdn.jsdelivr.net/npm//vega-lib?noext\",\n",
       "      \"vega-lite\": \"https://cdn.jsdelivr.net/npm//vega-lite@4.8.1?noext\",\n",
       "      \"vega-embed\": \"https://cdn.jsdelivr.net/npm//vega-embed@6?noext\",\n",
       "    };\n",
       "\n",
       "    function loadScript(lib) {\n",
       "      return new Promise(function(resolve, reject) {\n",
       "        var s = document.createElement('script');\n",
       "        s.src = paths[lib];\n",
       "        s.async = true;\n",
       "        s.onload = () => resolve(paths[lib]);\n",
       "        s.onerror = () => reject(`Error loading script: ${paths[lib]}`);\n",
       "        document.getElementsByTagName(\"head\")[0].appendChild(s);\n",
       "      });\n",
       "    }\n",
       "\n",
       "    function showError(err) {\n",
       "      outputDiv.innerHTML = `<div class=\"error\" style=\"color:red;\">${err}</div>`;\n",
       "      throw err;\n",
       "    }\n",
       "\n",
       "    function displayChart(vegaEmbed) {\n",
       "      vegaEmbed(outputDiv, spec, embedOpt)\n",
       "        .catch(err => showError(`Javascript Error: ${err.message}<br>This usually means there's a typo in your chart specification. See the javascript console for the full traceback.`));\n",
       "    }\n",
       "\n",
       "    if(typeof define === \"function\" && define.amd) {\n",
       "      requirejs.config({paths});\n",
       "      require([\"vega-embed\"], displayChart, err => showError(`Error loading script: ${err.message}`));\n",
       "    } else if (typeof vegaEmbed === \"function\") {\n",
       "      displayChart(vegaEmbed);\n",
       "    } else {\n",
       "      loadScript(\"vega\")\n",
       "        .then(() => loadScript(\"vega-lite\"))\n",
       "        .then(() => loadScript(\"vega-embed\"))\n",
       "        .catch(showError)\n",
       "        .then(() => displayChart(vegaEmbed));\n",
       "    }\n",
       "  })({\"config\": {\"view\": {\"continuousWidth\": 400, \"continuousHeight\": 300}}, \"data\": {\"name\": \"data-04084874ced73fff0179bd3fad477ea5\"}, \"mark\": \"bar\", \"encoding\": {\"color\": {\"type\": \"nominal\", \"field\": \"label\"}, \"column\": {\"type\": \"nominal\", \"field\": \"pos\"}, \"x\": {\"type\": \"ordinal\", \"field\": \"label\"}, \"y\": {\"type\": \"quantitative\", \"field\": \"value\"}}, \"$schema\": \"https://vega.github.io/schema/vega-lite/v4.8.1.json\", \"datasets\": {\"data-04084874ced73fff0179bd3fad477ea5\": [{\"value\": 0.11931271584228995, \"label\": \"False\", \"pos\": \"liwc_ct.Prep\"}, {\"value\": 0.05714811422454538, \"label\": \"False\", \"pos\": \"liwc_ct.Space\"}, {\"value\": 0.1021531060259415, \"label\": \"False\", \"pos\": \"liwc_ct.Relativ\"}, {\"value\": 0.3425327029405164, \"label\": \"False\", \"pos\": \"liwc_ct.Function\"}, {\"value\": 0.06824238329666887, \"label\": \"False\", \"pos\": \"liwc_ct.Article\"}, {\"value\": 0.019794457543110065, \"label\": \"False\", \"pos\": \"liwc_ct.Percept\"}, {\"value\": 0.00630951704822714, \"label\": \"False\", \"pos\": \"liwc_ct.See\"}, {\"value\": 0.032003093950649104, \"label\": \"False\", \"pos\": \"liwc_ct.Power\"}, {\"value\": 0.06160002860369749, \"label\": \"False\", \"pos\": \"liwc_ct.Drives\"}, {\"value\": 0.06832365334332126, \"label\": \"False\", \"pos\": \"liwc_ct.Social\"}, {\"value\": 0.021495422828275924, \"label\": \"False\", \"pos\": \"liwc_ct.Adverb\"}, {\"value\": 0.04418448428857774, \"label\": \"False\", \"pos\": \"liwc_ct.FocusPresent\"}, {\"value\": 0.09198208428728524, \"label\": \"False\", \"pos\": \"liwc_ct.Verb\"}, {\"value\": 0.04615570710136566, \"label\": \"False\", \"pos\": \"liwc_ct.Auxverb\"}, {\"value\": 0.005672644474035643, \"label\": \"False\", \"pos\": \"liwc_ct.Negate\"}, {\"value\": 0.03154282967853433, \"label\": \"False\", \"pos\": \"liwc_ct.Affect\"}, {\"value\": 0.01491168203257924, \"label\": \"False\", \"pos\": \"liwc_ct.Negemo\"}, {\"value\": 0.0026767953940730702, \"label\": \"False\", \"pos\": \"liwc_ct.Anx\"}, {\"value\": 0.005166833762690259, \"label\": \"False\", \"pos\": \"liwc_ct.Risk\"}, {\"value\": 0.013549628142358846, \"label\": \"False\", \"pos\": \"liwc_ct.Tentat\"}, {\"value\": 0.06157478463872841, \"label\": \"False\", \"pos\": \"liwc_ct.CogProc\"}, {\"value\": 0.010043891004349307, \"label\": \"False\", \"pos\": \"liwc_ct.Interrog\"}, {\"value\": 0.0315187637376962, \"label\": \"False\", \"pos\": \"liwc_ct.Ipron\"}, {\"value\": 0.05900376515592294, \"label\": \"False\", \"pos\": \"liwc_ct.Pronoun\"}, {\"value\": 0.03208580395486905, \"label\": \"False\", \"pos\": \"liwc_ct.Time\"}, {\"value\": 0.0184886212232689, \"label\": \"False\", \"pos\": \"liwc_ct.Compare\"}, {\"value\": 0.003261212276492163, \"label\": \"False\", \"pos\": \"liwc_ct.We\"}, {\"value\": 0.027465608470335152, \"label\": \"False\", \"pos\": \"liwc_ct.Ppron\"}, {\"value\": 0.012520302696995058, \"label\": \"False\", \"pos\": \"liwc_ct.Affiliation\"}, {\"value\": 0.03613116847943024, \"label\": \"False\", \"pos\": \"liwc_ct.Conj\"}, {\"value\": 0.013787043212260609, \"label\": \"False\", \"pos\": \"liwc_ct.Insight\"}, {\"value\": 0.00737594651963048, \"label\": \"False\", \"pos\": \"liwc_ct.Number\"}, {\"value\": 0.03144225507728789, \"label\": \"False\", \"pos\": \"liwc_ct.Adj\"}, {\"value\": 0.01617526154880018, \"label\": \"False\", \"pos\": \"liwc_ct.Posemo\"}, {\"value\": 0.0004594415546338324, \"label\": \"False\", \"pos\": \"liwc_ct.Nonflu\"}, {\"value\": 0.00154929084998593, \"label\": \"False\", \"pos\": \"liwc_ct.Informal\"}, {\"value\": 0.013988237869086116, \"label\": \"False\", \"pos\": \"liwc_ct.Motion\"}, {\"value\": 0.03879930387454566, \"label\": \"False\", \"pos\": \"liwc_ct.FocusPast\"}, {\"value\": 0.014351123634089854, \"label\": \"False\", \"pos\": \"liwc_ct.SheHe\"}, {\"value\": 0.012294582215517918, \"label\": \"False\", \"pos\": \"liwc_ct.Male\"}, {\"value\": 0.00682575862581649, \"label\": \"False\", \"pos\": \"liwc_ct.FocusFuture\"}, {\"value\": 0.01274791407346949, \"label\": \"False\", \"pos\": \"liwc_ct.Achieve\"}, {\"value\": 0.03287721898935431, \"label\": \"False\", \"pos\": \"liwc_ct.Work\"}, {\"value\": 0.010507417267340327, \"label\": \"False\", \"pos\": \"liwc_ct.Hear\"}, {\"value\": 0.007814565771686011, \"label\": \"False\", \"pos\": \"liwc_ct.Discrep\"}, {\"value\": 0.015301313544421614, \"label\": \"False\", \"pos\": \"liwc_ct.Differ\"}, {\"value\": 0.005887515010290926, \"label\": \"False\", \"pos\": \"liwc_ct.They\"}, {\"value\": 0.001291685963217268, \"label\": \"False\", \"pos\": \"liwc_ct.I\"}, {\"value\": 0.00837229884978124, \"label\": \"False\", \"pos\": \"liwc_ct.Money\"}, {\"value\": 0.008932253142543358, \"label\": \"False\", \"pos\": \"liwc_ct.Bio\"}, {\"value\": 0.00079091136412829, \"label\": \"False\", \"pos\": \"liwc_ct.Sexual\"}, {\"value\": 0.006601516825452076, \"label\": \"False\", \"pos\": \"liwc_ct.Certain\"}, {\"value\": 0.011203290270169393, \"label\": \"False\", \"pos\": \"liwc_ct.Cause\"}, {\"value\": 0.0075804584374947375, \"label\": \"False\", \"pos\": \"liwc_ct.Reward\"}, {\"value\": 0.014505619731366558, \"label\": \"False\", \"pos\": \"liwc_ct.Quant\"}, {\"value\": 0.002317618082242683, \"label\": \"False\", \"pos\": \"liwc_ct.Feel\"}, {\"value\": 0.002587775932283027, \"label\": \"False\", \"pos\": \"liwc_ct.Body\"}, {\"value\": 0.001260672866206612, \"label\": \"False\", \"pos\": \"liwc_ct.Relig\"}, {\"value\": 0.001357433695114776, \"label\": \"False\", \"pos\": \"liwc_ct.Friend\"}, {\"value\": 0.008185074321435495, \"label\": \"False\", \"pos\": \"liwc_ct.Leisure\"}, {\"value\": 0.003886572849150022, \"label\": \"False\", \"pos\": \"liwc_ct.Health\"}, {\"value\": 0.005962265281439857, \"label\": \"False\", \"pos\": \"liwc_ct.Anger\"}, {\"value\": 0.002134964990982243, \"label\": \"False\", \"pos\": \"liwc_ct.Family\"}, {\"value\": 0.002674071586244909, \"label\": \"False\", \"pos\": \"liwc_ct.You\"}, {\"value\": 0.005215195100257069, \"label\": \"False\", \"pos\": \"liwc_ct.Female\"}, {\"value\": 0.0022397081121501685, \"label\": \"False\", \"pos\": \"liwc_ct.Sad\"}, {\"value\": 0.0019746463979815375, \"label\": \"False\", \"pos\": \"liwc_ct.Ingest\"}, {\"value\": 0.00022477444239686877, \"label\": \"False\", \"pos\": \"liwc_ct.Assent\"}, {\"value\": 0.001951053878056807, \"label\": \"False\", \"pos\": \"liwc_ct.Death\"}, {\"value\": 0.002578865840371032, \"label\": \"False\", \"pos\": \"liwc_ct.Home\"}, {\"value\": 0.00035805092453691046, \"label\": \"False\", \"pos\": \"liwc_ct.Netspeak\"}, {\"value\": 0.00015551305008704435, \"label\": \"False\", \"pos\": \"liwc_ct.Swear\"}, {\"value\": 2.5657199048666555e-05, \"label\": \"False\", \"pos\": \"liwc_ct.Filler\"}, {\"value\": 0.1064057918888855, \"label\": \"True\", \"pos\": \"liwc_ct.Prep\"}, {\"value\": 0.05118182443574068, \"label\": \"True\", \"pos\": \"liwc_ct.Space\"}, {\"value\": 0.09038651661886855, \"label\": \"True\", \"pos\": \"liwc_ct.Relativ\"}, {\"value\": 0.3160420158985157, \"label\": \"True\", \"pos\": \"liwc_ct.Function\"}, {\"value\": 0.05685468778428822, \"label\": \"True\", \"pos\": \"liwc_ct.Article\"}, {\"value\": 0.014613212616513606, \"label\": \"True\", \"pos\": \"liwc_ct.Percept\"}, {\"value\": 0.006707733536547102, \"label\": \"True\", \"pos\": \"liwc_ct.See\"}, {\"value\": 0.027754193253392206, \"label\": \"True\", \"pos\": \"liwc_ct.Power\"}, {\"value\": 0.0544670918067985, \"label\": \"True\", \"pos\": \"liwc_ct.Drives\"}, {\"value\": 0.05656060768783684, \"label\": \"True\", \"pos\": \"liwc_ct.Social\"}, {\"value\": 0.022611438450018107, \"label\": \"True\", \"pos\": \"liwc_ct.Adverb\"}, {\"value\": 0.05150579502607134, \"label\": \"True\", \"pos\": \"liwc_ct.FocusPresent\"}, {\"value\": 0.08538850716265267, \"label\": \"True\", \"pos\": \"liwc_ct.Verb\"}, {\"value\": 0.0467649427098173, \"label\": \"True\", \"pos\": \"liwc_ct.Auxverb\"}, {\"value\": 0.005963094528940487, \"label\": \"True\", \"pos\": \"liwc_ct.Negate\"}, {\"value\": 0.032329759476150174, \"label\": \"True\", \"pos\": \"liwc_ct.Affect\"}, {\"value\": 0.015633149539311445, \"label\": \"True\", \"pos\": \"liwc_ct.Negemo\"}, {\"value\": 0.002622577347116071, \"label\": \"True\", \"pos\": \"liwc_ct.Anx\"}, {\"value\": 0.004906350498359322, \"label\": \"True\", \"pos\": \"liwc_ct.Risk\"}, {\"value\": 0.013721245550942642, \"label\": \"True\", \"pos\": \"liwc_ct.Tentat\"}, {\"value\": 0.06417246864543405, \"label\": \"True\", \"pos\": \"liwc_ct.CogProc\"}, {\"value\": 0.008558314778205156, \"label\": \"True\", \"pos\": \"liwc_ct.Interrog\"}, {\"value\": 0.029883870945014542, \"label\": \"True\", \"pos\": \"liwc_ct.Ipron\"}, {\"value\": 0.05589004657652754, \"label\": \"True\", \"pos\": \"liwc_ct.Pronoun\"}, {\"value\": 0.027882445253149545, \"label\": \"True\", \"pos\": \"liwc_ct.Time\"}, {\"value\": 0.016004962281030394, \"label\": \"True\", \"pos\": \"liwc_ct.Compare\"}, {\"value\": 0.004456814891355896, \"label\": \"True\", \"pos\": \"liwc_ct.We\"}, {\"value\": 0.025982529651197392, \"label\": \"True\", \"pos\": \"liwc_ct.Ppron\"}, {\"value\": 0.011285514070414874, \"label\": \"True\", \"pos\": \"liwc_ct.Affiliation\"}, {\"value\": 0.03469687627273893, \"label\": \"True\", \"pos\": \"liwc_ct.Conj\"}, {\"value\": 0.014229523496353957, \"label\": \"True\", \"pos\": \"liwc_ct.Insight\"}, {\"value\": 0.006111293485489712, \"label\": \"True\", \"pos\": \"liwc_ct.Number\"}, {\"value\": 0.02958543058900578, \"label\": \"True\", \"pos\": \"liwc_ct.Adj\"}, {\"value\": 0.01629046098505288, \"label\": \"True\", \"pos\": \"liwc_ct.Posemo\"}, {\"value\": 0.0006665411286631761, \"label\": \"True\", \"pos\": \"liwc_ct.Nonflu\"}, {\"value\": 0.0030315037724189565, \"label\": \"True\", \"pos\": \"liwc_ct.Informal\"}, {\"value\": 0.01203297101608616, \"label\": \"True\", \"pos\": \"liwc_ct.Motion\"}, {\"value\": 0.02511203837775392, \"label\": \"True\", \"pos\": \"liwc_ct.FocusPast\"}, {\"value\": 0.008712942685197383, \"label\": \"True\", \"pos\": \"liwc_ct.SheHe\"}, {\"value\": 0.00700724173999751, \"label\": \"True\", \"pos\": \"liwc_ct.Male\"}, {\"value\": 0.007315457447858446, \"label\": \"True\", \"pos\": \"liwc_ct.FocusFuture\"}, {\"value\": 0.01045414879152364, \"label\": \"True\", \"pos\": \"liwc_ct.Achieve\"}, {\"value\": 0.023668317228755068, \"label\": \"True\", \"pos\": \"liwc_ct.Work\"}, {\"value\": 0.0048593065641921885, \"label\": \"True\", \"pos\": \"liwc_ct.Hear\"}, {\"value\": 0.007530271426920369, \"label\": \"True\", \"pos\": \"liwc_ct.Discrep\"}, {\"value\": 0.014839496185084343, \"label\": \"True\", \"pos\": \"liwc_ct.Differ\"}, {\"value\": 0.006245289309403625, \"label\": \"True\", \"pos\": \"liwc_ct.They\"}, {\"value\": 0.0016503207164362632, \"label\": \"True\", \"pos\": \"liwc_ct.I\"}, {\"value\": 0.007368029568291678, \"label\": \"True\", \"pos\": \"liwc_ct.Money\"}, {\"value\": 0.009987914058455184, \"label\": \"True\", \"pos\": \"liwc_ct.Bio\"}, {\"value\": 0.0008014577557961438, \"label\": \"True\", \"pos\": \"liwc_ct.Sexual\"}, {\"value\": 0.008708665975159166, \"label\": \"True\", \"pos\": \"liwc_ct.Certain\"}, {\"value\": 0.012424769362767296, \"label\": \"True\", \"pos\": \"liwc_ct.Cause\"}, {\"value\": 0.007357674722777354, \"label\": \"True\", \"pos\": \"liwc_ct.Reward\"}, {\"value\": 0.013810346074388368, \"label\": \"True\", \"pos\": \"liwc_ct.Quant\"}, {\"value\": 0.0022082737737605103, \"label\": \"True\", \"pos\": \"liwc_ct.Feel\"}, {\"value\": 0.0031208522871194327, \"label\": \"True\", \"pos\": \"liwc_ct.Body\"}, {\"value\": 0.0013419173602566307, \"label\": \"True\", \"pos\": \"liwc_ct.Relig\"}, {\"value\": 0.0010507780442718087, \"label\": \"True\", \"pos\": \"liwc_ct.Friend\"}, {\"value\": 0.005481317067228548, \"label\": \"True\", \"pos\": \"liwc_ct.Leisure\"}, {\"value\": 0.004130181751810942, \"label\": \"True\", \"pos\": \"liwc_ct.Health\"}, {\"value\": 0.0066212037951238105, \"label\": \"True\", \"pos\": \"liwc_ct.Anger\"}, {\"value\": 0.001486884345889011, \"label\": \"True\", \"pos\": \"liwc_ct.Family\"}, {\"value\": 0.00491742042010453, \"label\": \"True\", \"pos\": \"liwc_ct.You\"}, {\"value\": 0.004309587172929179, \"label\": \"True\", \"pos\": \"liwc_ct.Female\"}, {\"value\": 0.0021508721096299677, \"label\": \"True\", \"pos\": \"liwc_ct.Sad\"}, {\"value\": 0.0022579292421622543, \"label\": \"True\", \"pos\": \"liwc_ct.Ingest\"}, {\"value\": 0.00041601485701062526, \"label\": \"True\", \"pos\": \"liwc_ct.Assent\"}, {\"value\": 0.0022055580017767322, \"label\": \"True\", \"pos\": \"liwc_ct.Death\"}, {\"value\": 0.001858327010059867, \"label\": \"True\", \"pos\": \"liwc_ct.Home\"}, {\"value\": 0.0008506832125520355, \"label\": \"True\", \"pos\": \"liwc_ct.Netspeak\"}, {\"value\": 0.0007294304043057189, \"label\": \"True\", \"pos\": \"liwc_ct.Swear\"}, {\"value\": 3.996662573437221e-05, \"label\": \"True\", \"pos\": \"liwc_ct.Filler\"}]}}, {\"mode\": \"vega-lite\"});\n",
       "</script>"
      ],
      "text/plain": [
       "alt.Chart(...)"
      ]
     },
     "execution_count": 317,
     "metadata": {},
     "output_type": "execute_result"
    }
   ],
   "source": [
    "liwc_df = df_flat.loc[:, (df_flat.columns.str.startswith('liwc')|df_flat.columns.str.startswith('label'))]\n",
    "\n",
    "liwc_grouped = liwc_df.groupby('label').sum().T\n",
    "# 0:10387\n",
    "# 1:10374\n",
    "liwc_grouped[0] = liwc_grouped[0]/10387\n",
    "liwc_grouped[1] = liwc_grouped[1]/10374\n",
    "\n",
    "liwc_fal = liwc_grouped[[0]]\n",
    "liwc_fal['label']=['False']*len(liwc_grouped)\n",
    "liwc_fal['pos']=liwc_grouped.index\n",
    "liwc_fal = liwc_fal.rename(columns={0: 'value'})\n",
    "liwc_tru = liwc_grouped[[1]]\n",
    "liwc_tru['label']=['True']*len(liwc_grouped)\n",
    "liwc_tru['pos']=liwc_grouped.index\n",
    "liwc_tru = liwc_tru.rename(columns={1: 'value'})\n",
    "\n",
    "liwc_fal_tru = pd.concat([liwc_fal, liwc_tru],axis=0)\n",
    "\n",
    "\n",
    "alt.Chart(liwc_fal_tru).mark_bar().encode(\n",
    "    x='label:O',\n",
    "    y='value:Q',\n",
    "    color='label:N',\n",
    "    column='pos:N'\n",
    ")"
   ]
  },
  {
   "cell_type": "code",
   "execution_count": 350,
   "metadata": {},
   "outputs": [],
   "source": [
    "liwc_grouped['delta'] = liwc_grouped[1]-liwc_grouped[0]\n",
    "liwc_grouped = liwc_grouped.sort_values(by='delta',ascending=False)"
   ]
  },
  {
   "cell_type": "code",
   "execution_count": null,
   "metadata": {},
   "outputs": [],
   "source": [
    "liwc_df = df_flat.loc[:, (df_flat.columns.str.startswith('liwc')|df_flat.columns.str.startswith('label'))]\n",
    "liwc_grouped = liwc_df.groupby('label').sum().T\n",
    "# 0:10387\n",
    "# 1:10374\n",
    "liwc_grouped[0] = liwc_grouped[0]/10387\n",
    "liwc_grouped[1] = liwc_grouped[1]/10374\n",
    "liwc_grouped_chart_d = liwc_grouped.T[['liwc_ct.Certain', 'liwc_ct.Informal', 'liwc_ct.Cause', 'liwc_ct.Ipron','liwc_ct.Adj', 'liwc_ct.Prep', 'liwc_ct.Function']]\n",
    "\n",
    "            "
   ]
  },
  {
   "cell_type": "markdown",
   "metadata": {},
   "source": [
    "### Training Model: POS"
   ]
  },
  {
   "cell_type": "code",
   "execution_count": 305,
   "metadata": {},
   "outputs": [],
   "source": [
    "from sklearn.model_selection import train_test_split\n"
   ]
  },
  {
   "cell_type": "code",
   "execution_count": 408,
   "metadata": {},
   "outputs": [
    {
     "name": "stdout",
     "output_type": "stream",
     "text": [
      "Fitting 5 folds for each of 5 candidates, totalling 25 fits\n"
     ]
    },
    {
     "name": "stderr",
     "output_type": "stream",
     "text": [
      "[Parallel(n_jobs=3)]: Using backend LokyBackend with 3 concurrent workers.\n",
      "[Parallel(n_jobs=3)]: Done  20 out of  25 | elapsed:    1.2s remaining:    0.3s\n",
      "[Parallel(n_jobs=3)]: Done  25 out of  25 | elapsed:    1.4s finished\n",
      "[Parallel(n_jobs=3)]: Using backend LokyBackend with 3 concurrent workers.\n"
     ]
    },
    {
     "name": "stdout",
     "output_type": "stream",
     "text": [
      "Fitting 5 folds for each of 5 candidates, totalling 25 fits\n"
     ]
    },
    {
     "name": "stderr",
     "output_type": "stream",
     "text": [
      "[Parallel(n_jobs=3)]: Done  20 out of  25 | elapsed:    1.3s remaining:    0.3s\n",
      "[Parallel(n_jobs=3)]: Done  25 out of  25 | elapsed:    3.3s finished\n"
     ]
    },
    {
     "name": "stdout",
     "output_type": "stream",
     "text": [
      "Fitting 5 folds for each of 5 candidates, totalling 25 fits\n"
     ]
    },
    {
     "name": "stderr",
     "output_type": "stream",
     "text": [
      "[Parallel(n_jobs=3)]: Using backend LokyBackend with 3 concurrent workers.\n",
      "[Parallel(n_jobs=3)]: Done  20 out of  25 | elapsed:    1.1s remaining:    0.3s\n",
      "[Parallel(n_jobs=3)]: Done  25 out of  25 | elapsed:    1.4s finished\n",
      "/Library/Frameworks/Python.framework/Versions/3.7/lib/python3.7/site-packages/sklearn/linear_model/_logistic.py:940: ConvergenceWarning:\n",
      "\n",
      "lbfgs failed to converge (status=1):\n",
      "STOP: TOTAL NO. of ITERATIONS REACHED LIMIT.\n",
      "\n",
      "Increase the number of iterations (max_iter) or scale the data as shown in:\n",
      "    https://scikit-learn.org/stable/modules/preprocessing.html\n",
      "Please also refer to the documentation for alternative solver options:\n",
      "    https://scikit-learn.org/stable/modules/linear_model.html#logistic-regression\n",
      "\n",
      "[Parallel(n_jobs=3)]: Using backend LokyBackend with 3 concurrent workers.\n"
     ]
    },
    {
     "name": "stdout",
     "output_type": "stream",
     "text": [
      "Fitting 5 folds for each of 5 candidates, totalling 25 fits\n"
     ]
    },
    {
     "name": "stderr",
     "output_type": "stream",
     "text": [
      "[Parallel(n_jobs=3)]: Done  25 out of  25 | elapsed:   23.5s finished\n"
     ]
    },
    {
     "name": "stdout",
     "output_type": "stream",
     "text": [
      "Fitting 5 folds for each of 5 candidates, totalling 25 fits\n"
     ]
    },
    {
     "name": "stderr",
     "output_type": "stream",
     "text": [
      "[Parallel(n_jobs=3)]: Using backend LokyBackend with 3 concurrent workers.\n",
      "[Parallel(n_jobs=3)]: Done  25 out of  25 | elapsed:  1.0min finished\n",
      "/Library/Frameworks/Python.framework/Versions/3.7/lib/python3.7/site-packages/sklearn/neural_network/_multilayer_perceptron.py:571: ConvergenceWarning:\n",
      "\n",
      "Stochastic Optimizer: Maximum iterations (200) reached and the optimization hasn't converged yet.\n",
      "\n"
     ]
    }
   ],
   "source": [
    "from sklearn.naive_bayes import MultinomialNB\n",
    "from sklearn.svm import LinearSVC\n",
    "from sklearn.linear_model import LogisticRegression\n",
    "from sklearn.ensemble import RandomForestClassifier\n",
    "from sklearn.neural_network import MLPClassifier\n",
    "from sklearn.model_selection import GridSearchCV\n",
    "from sklearn.model_selection import train_test_split\n",
    "\n",
    "X_train, X_test, y_train, y_test = train_test_split(pos[list(pos.columns)[1:]], list(pos['label']), test_size=0.2, random_state=42)\n",
    "\n",
    "names = [\n",
    "         \"Naive Bayes\",\n",
    "         \"Linear SVM\",\n",
    "         \"Logistic Regression\",\n",
    "         \"Random Forest\",\n",
    "         \"Multilayer Perceptron\"\n",
    "        ]\n",
    "\n",
    "classifiers = [\n",
    "    MultinomialNB(),\n",
    "    LinearSVC(),\n",
    "    LogisticRegression(),\n",
    "    RandomForestClassifier(),\n",
    "    MLPClassifier()\n",
    "]\n",
    "\n",
    "parameters = [\n",
    "              {'clf__alpha': (10, 1, 1e-1, 1e-2, 1e-3)},\n",
    "              {'clf__C': (np.logspace(-5, 1, 5))},\n",
    "              {'clf__C': (np.logspace(-5, 1, 5))},\n",
    "              {'clf__max_depth': (1, 2, 5, 10, 50)},\n",
    "              {'clf__alpha': (10, 1, 1e-1,1e-2, 1e-3)}\n",
    "             ]\n",
    "result = []\n",
    "for name, classifier, params in zip(names, classifiers, parameters):\n",
    "    clf_pipe = Pipeline([\n",
    "        #('vect', TfidfVectorizer(stop_words='english')),\n",
    "        ('clf', classifier),\n",
    "    ])\n",
    "    gs_clf = GridSearchCV(clf_pipe, param_grid=params,cv=5,n_jobs=3,verbose=2)\n",
    "    clf = gs_clf.fit(X_train, y_train)\n",
    "    score = clf.score(X_test, y_test)\n",
    "    result.append([name,classifier,params,score,clf.best_params_, clf.best_score_, clf.cv_results_])\n",
    "    "
   ]
  },
  {
   "cell_type": "markdown",
   "metadata": {},
   "source": [
    "### Training Model: LIWC"
   ]
  },
  {
   "cell_type": "code",
   "execution_count": null,
   "metadata": {},
   "outputs": [],
   "source": [
    "from sklearn.naive_bayes import MultinomialNB\n",
    "from sklearn.svm import LinearSVC\n",
    "from sklearn.linear_model import LogisticRegression\n",
    "from sklearn.ensemble import RandomForestClassifier\n",
    "from sklearn.neural_network import MLPClassifier\n",
    "from sklearn.model_selection import GridSearchCV\n",
    "from sklearn.model_selection import train_test_split\n",
    "\n",
    "X_train, X_test, y_train, y_test = train_test_split(liwc_df[list(liwc_df.columns)[1:]], list(liwc_df['label']), test_size=0.2, random_state=42)\n",
    "\n",
    "names = [\n",
    "         \"Naive Bayes\",\n",
    "         \"Linear SVM\",\n",
    "         \"Logistic Regression\",\n",
    "         \"Random Forest\",\n",
    "         \"Multilayer Perceptron\"\n",
    "        ]\n",
    "\n",
    "classifiers = [\n",
    "    MultinomialNB(),\n",
    "    LinearSVC(),\n",
    "    LogisticRegression(),\n",
    "    RandomForestClassifier(),\n",
    "    MLPClassifier()\n",
    "]\n",
    "\n",
    "parameters = [\n",
    "              {'clf__alpha': (10, 1, 1e-1, 1e-2, 1e-3)},\n",
    "              {'clf__C': (np.logspace(-5, 1, 5))},\n",
    "              {'clf__C': (np.logspace(-5, 1, 5))},\n",
    "              {'clf__max_depth': (1, 2, 5, 10, 50)},\n",
    "              {'clf__alpha': (10, 1, 1e-1,1e-2, 1e-3)}\n",
    "             ]\n",
    "result_liwc = []\n",
    "for name, classifier, params in zip(names, classifiers, parameters):\n",
    "    clf_pipe = Pipeline([\n",
    "        #('vect', TfidfVectorizer(stop_words='english')),\n",
    "        ('clf', classifier),\n",
    "    ])\n",
    "    gs_clf = GridSearchCV(clf_pipe, param_grid=params,cv=5,n_jobs=3,verbose=2)\n",
    "    clf = gs_clf.fit(X_train, y_train)\n",
    "    score = clf.score(X_test, y_test)\n",
    "    result_liwc.append([name,classifier,params,score,clf.best_params_, clf.best_score_, clf.cv_results_])\n",
    "    "
   ]
  },
  {
   "cell_type": "markdown",
   "metadata": {},
   "source": [
    "### Save the best model to pickle file"
   ]
  },
  {
   "cell_type": "code",
   "execution_count": 421,
   "metadata": {},
   "outputs": [
    {
     "name": "stdout",
     "output_type": "stream",
     "text": [
      "Fitting 5 folds for each of 5 candidates, totalling 25 fits\n"
     ]
    },
    {
     "name": "stderr",
     "output_type": "stream",
     "text": [
      "[Parallel(n_jobs=3)]: Using backend LokyBackend with 3 concurrent workers.\n",
      "[Parallel(n_jobs=3)]: Done  25 out of  25 | elapsed:   25.0s finished\n"
     ]
    }
   ],
   "source": [
    "parameters = [\n",
    "              {'clf__max_depth': (1, 2, 5, 10, 50)}\n",
    "             ]\n",
    "\n",
    "clf_pipe = Pipeline([\n",
    "        ('clf', RandomForestClassifier()),\n",
    "    ])\n",
    "gs_clf = GridSearchCV(clf_pipe, param_grid=parameters,cv=5,n_jobs=3,verbose=2)\n",
    "clf = gs_clf.fit(X_train, y_train)\n",
    "score = clf.score(X_test, y_test)\n",
    "\n"
   ]
  },
  {
   "cell_type": "code",
   "execution_count": 423,
   "metadata": {},
   "outputs": [],
   "source": [
    "model = clf.best_estimator_"
   ]
  },
  {
   "cell_type": "code",
   "execution_count": 424,
   "metadata": {},
   "outputs": [],
   "source": [
    "import pickle\n",
    "pickle_out = open(\"classifier.pkl\", mode = \"wb\")\n",
    "pickle.dump(model, pickle_out)\n",
    "pickle_out.close()"
   ]
  },
  {
   "cell_type": "markdown",
   "metadata": {},
   "source": [
    "# Save Model Result & Parameter Table"
   ]
  },
  {
   "cell_type": "code",
   "execution_count": null,
   "metadata": {},
   "outputs": [],
   "source": [
    "pos_result = pd.DataFrame([[mod[0]]+list(mod[6].get('mean_test_score')) for mod in result], columns=['model','p1','p2','p3','p4','p5'])"
   ]
  },
  {
   "cell_type": "code",
   "execution_count": null,
   "metadata": {},
   "outputs": [],
   "source": [
    "liwc_result = pd.DataFrame([[mod[0]]+list(mod[6].get('mean_test_score')) for mod in result_liwc], columns=['model','p1','p2','p3','p4','p5'])"
   ]
  },
  {
   "cell_type": "code",
   "execution_count": null,
   "metadata": {},
   "outputs": [],
   "source": [
    "pos_result_flatten = pd.DataFrame()\n",
    "for i in range(1,6):\n",
    "    p1 = pos_result[['model','p'+str(i)]]\n",
    "    p1['parameter']=['p'+str(i)]*len(pos_result)\n",
    "    p1 = p1.rename(columns={'p'+str(i): 'acuracy'})\n",
    "    if i == 1:\n",
    "        pos_result_flatten = p1\n",
    "    else:\n",
    "        pos_result_flatten = pd.concat([pos_result_flatten,p1], axis=0)\n"
   ]
  },
  {
   "cell_type": "code",
   "execution_count": null,
   "metadata": {},
   "outputs": [],
   "source": [
    "liwc_result_flatten = pd.DataFrame()\n",
    "for i in range(1,6):\n",
    "    p1 = liwc_result[['model','p'+str(i)]]\n",
    "    p1['parameter']=['p'+str(i)]*len(liwc_result)\n",
    "    p1 = p1.rename(columns={'p'+str(i): 'acuracy'})\n",
    "    if i == 1:\n",
    "        liwc_result_flatten = p1\n",
    "    else:\n",
    "        liwc_result_flatten = pd.concat([liwc_result_flatten,p1], axis=0)\n"
   ]
  },
  {
   "cell_type": "code",
   "execution_count": 479,
   "metadata": {},
   "outputs": [],
   "source": [
    "pos_result_flatten.to_csv('data/pos_result_flatten.csv')\n",
    "liwc_result_flatten.to_csv('data/liwc_result_flatten.csv')"
   ]
  },
  {
   "cell_type": "markdown",
   "metadata": {},
   "source": [
    "### Transform future input"
   ]
  },
  {
   "cell_type": "code",
   "execution_count": null,
   "metadata": {},
   "outputs": [],
   "source": [
    "x = \"adobochron 1 Comment SAN FRANCISCO, California ( The Adobo Chronicles, San Francisco Bureau) – Now it can be told — now that Hillary Clinton is all but assured of the Democratic presidential nomination. For months since the former secretary of state launched her presidential bid, her campaign logo has always symbolized America’s quest to move forward, with the arrow in the logo pointing to the right. Left-handed people, of course, dispute that symbolism because for them, moving forward should be pointing to the left. But there is another school of thought about Hillary’s logo. Many believe that the arrow pointing right actually symbolizes moving to the (conservative) right as opposed to the (liberal) left. The logo was a brilliant concept designed to help the Democrats win over Republican voters in the general elections — voters who will definitely choose a rightist over a leftist candidate. The GOP’s presumptive nominee, Donald Trump, is perceived by many as more leftist than rightist, which would give Clinton the edge among conservative voters. Who knew the placement or direction of an arrow could spell victory or defeat for an American presidential candidate? Rate this:\"\n",
    "x_parsed = parseLIWC(x)\n",
    "\n",
    "liwc_ct = [x_parsed[name.replace(\"liwc_ct.\",\"\")] for name in X_train.columns]\n",
    "liwc_sum = sum(liwc_ct)\n",
    "liwc_ip = [ (xi*1.0)/liwc_sum for xi in liwc_ct]"
   ]
  },
  {
   "cell_type": "code",
   "execution_count": null,
   "metadata": {},
   "outputs": [],
   "source": []
  }
 ],
 "metadata": {
  "kernelspec": {
   "display_name": "Python 3",
   "language": "python",
   "name": "python3"
  },
  "language_info": {
   "codemirror_mode": {
    "name": "ipython",
    "version": 3
   },
   "file_extension": ".py",
   "mimetype": "text/x-python",
   "name": "python",
   "nbconvert_exporter": "python",
   "pygments_lexer": "ipython3",
   "version": "3.7.2"
  }
 },
 "nbformat": 4,
 "nbformat_minor": 2
}
